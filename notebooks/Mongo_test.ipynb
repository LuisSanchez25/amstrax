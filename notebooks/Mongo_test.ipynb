{
 "cells": [
  {
   "cell_type": "code",
   "execution_count": 1,
   "metadata": {
    "scrolled": true
   },
   "outputs": [
    {
     "name": "stderr",
     "output_type": "stream",
     "text": [
      "/Users/petergaemers/Desktop/python/straxen/straxen/plugins/fax.py:142: NumbaWarning: \n",
      "Compilation is falling back to object mode WITHOUT looplifting enabled because Function \"add_current\" failed type inference due to: Untyped global name '_template_length': cannot determine Numba type of <class 'numba.ir.UndefinedType'>\n",
      "\n",
      "File \"../../straxen/straxen/plugins/fax.py\", line 153:\n",
      "    def add_current(_photon_timing_start, _reminder, _photon_gain, pulse):\n",
      "        <source elided>\n",
      "        #         \"\"\"\n",
      "        pulse[_photon_timing_start:_photon_timing_start + _template_length] += \\\n",
      "        ^\n",
      "\n",
      "  @guvectorize([(int64, int64, float64, float64[:])], '(), (), (), (n)')\n",
      "/anaconda3/envs/amstrax/lib/python3.6/site-packages/numba-0.44.1-py3.6-macosx-10.7-x86_64.egg/numba/compiler.py:725: NumbaWarning: Function \"add_current\" was compiled in object mode without forceobj=True.\n",
      "\n",
      "File \"../../straxen/straxen/plugins/fax.py\", line 143:\n",
      "    @guvectorize([(int64, int64, float64, float64[:])], '(), (), (), (n)')\n",
      "    def add_current(_photon_timing_start, _reminder, _photon_gain, pulse):\n",
      "    ^\n",
      "\n",
      "  self.func_ir.loc))\n",
      "/anaconda3/envs/amstrax/lib/python3.6/site-packages/numba-0.44.1-py3.6-macosx-10.7-x86_64.egg/numba/compiler.py:734: NumbaDeprecationWarning: \n",
      "Fall-back from the nopython compilation path to the object mode compilation path has been detected, this is deprecated behaviour.\n",
      "\n",
      "For more information visit http://numba.pydata.org/numba-doc/latest/reference/deprecation.html#deprecation-of-object-mode-fall-back-behaviour-when-using-jit\n",
      "\n",
      "File \"../../straxen/straxen/plugins/fax.py\", line 143:\n",
      "    @guvectorize([(int64, int64, float64, float64[:])], '(), (), (), (n)')\n",
      "    def add_current(_photon_timing_start, _reminder, _photon_gain, pulse):\n",
      "    ^\n",
      "\n",
      "  warnings.warn(errors.NumbaDeprecationWarning(msg, self.func_ir.loc))\n"
     ]
    }
   ],
   "source": [
    "import numpy as np\n",
    "import amstrax\n",
    "import strax\n",
    "import matplotlib.pyplot as plt\n",
    "import pandas as pd\n",
    "from pymongo import MongoClient\n",
    "%matplotlib inline\n",
    "%load_ext line_profiler"
   ]
  },
  {
   "cell_type": "code",
   "execution_count": 2,
   "metadata": {},
   "outputs": [],
   "source": [
    "%matplotlib inline"
   ]
  },
  {
   "cell_type": "code",
   "execution_count": 3,
   "metadata": {
    "code_folding": []
   },
   "outputs": [],
   "source": [
    "# run_id = '190516_095707'_\n",
    "run_id = '190610_085915'"
   ]
  },
  {
   "cell_type": "code",
   "execution_count": 4,
   "metadata": {},
   "outputs": [
    {
     "ename": "AttributeError",
     "evalue": "module 'amstrax' has no attribute 'EventPositions'",
     "output_type": "error",
     "traceback": [
      "\u001b[0;31m---------------------------------------------------------------------------\u001b[0m",
      "\u001b[0;31mAttributeError\u001b[0m                            Traceback (most recent call last)",
      "\u001b[0;32m<ipython-input-4-1f524730c645>\u001b[0m in \u001b[0;36m<module>\u001b[0;34m\u001b[0m\n\u001b[1;32m      4\u001b[0m                   register=[amstrax.RecordsFromMongo, amstrax.PulseProcessing, amstrax.Peaks, amstrax.TriggerPeaks,\n\u001b[1;32m      5\u001b[0m                             \u001b[0mamstrax\u001b[0m\u001b[0;34m.\u001b[0m\u001b[0mPeakBasics\u001b[0m\u001b[0;34m,\u001b[0m\u001b[0mamstrax\u001b[0m\u001b[0;34m.\u001b[0m\u001b[0mPeakClassification\u001b[0m\u001b[0;34m,\u001b[0m\u001b[0mamstrax\u001b[0m\u001b[0;34m.\u001b[0m\u001b[0mPeakPositions\u001b[0m\u001b[0;34m,\u001b[0m\u001b[0mamstrax\u001b[0m\u001b[0;34m.\u001b[0m\u001b[0mNCompeting\u001b[0m\u001b[0;34m,\u001b[0m\u001b[0;34m\u001b[0m\u001b[0;34m\u001b[0m\u001b[0m\n\u001b[0;32m----> 6\u001b[0;31m                             amstrax.Events,amstrax.EventBasics, amstrax.EventPositions,amstrax.EventInfo],\n\u001b[0m\u001b[1;32m      7\u001b[0m                     \u001b[0mregister_all\u001b[0m\u001b[0;34m=\u001b[0m\u001b[0mamstrax\u001b[0m\u001b[0;34m,\u001b[0m\u001b[0;34m\u001b[0m\u001b[0;34m\u001b[0m\u001b[0m\n\u001b[1;32m      8\u001b[0m \u001b[0;31m#                    config=dict(pax_raw_dir='/data/xenon/xams/run10/raw/data/'),\u001b[0m\u001b[0;34m\u001b[0m\u001b[0;34m\u001b[0m\u001b[0;34m\u001b[0m\u001b[0m\n",
      "\u001b[0;31mAttributeError\u001b[0m: module 'amstrax' has no attribute 'EventPositions'"
     ]
    }
   ],
   "source": [
    "st = strax.Context(storage=[strax.DataDirectory('./data'),\n",
    "                           strax.DataDirectory('./raw',readonly= True),\n",
    "                           ],\n",
    "                  register=[amstrax.RecordsFromMongo, amstrax.PulseProcessing, amstrax.Peaks, amstrax.TriggerPeaks,\n",
    "                            amstrax.PeakBasics,amstrax.PeakClassification,amstrax.PeakPositions,amstrax.NCompeting,\n",
    "                            amstrax.Events,amstrax.EventBasics, amstrax.EventPositions, amstrax.EventInfo],\n",
    "                    register_all=amstrax,\n",
    "#                    config=dict(pax_raw_dir='/data/xenon/xams/run10/raw/data/'),\n",
    "                  )"
   ]
  },
  {
   "cell_type": "code",
   "execution_count": null,
   "metadata": {},
   "outputs": [],
   "source": [
    "st.get_df(run_id, 'event_info')"
   ]
  },
  {
   "cell_type": "code",
   "execution_count": null,
   "metadata": {
    "scrolled": true
   },
   "outputs": [],
   "source": [
    "# !ls ./data"
   ]
  },
  {
   "cell_type": "code",
   "execution_count": null,
   "metadata": {},
   "outputs": [],
   "source": [
    "! rm -r ./data/190610_085915*"
   ]
  },
  {
   "cell_type": "code",
   "execution_count": null,
   "metadata": {
    "scrolled": true
   },
   "outputs": [],
   "source": [
    "# r = st.get_array(run_id, 'records')"
   ]
  },
  {
   "cell_type": "code",
   "execution_count": null,
   "metadata": {},
   "outputs": [],
   "source": [
    "from SiPMdata import *"
   ]
  },
  {
   "cell_type": "code",
   "execution_count": null,
   "metadata": {},
   "outputs": [],
   "source": [
    "class EventPositions(strax.LoopPlugin):\n",
    "    depends_on = ('events','event_basics','peaks', 'peak_classification')\n",
    "    dtype = [\n",
    "        ('xr', np.float32,\n",
    "         'Interaction x-position'),\n",
    "        ('yr', np.float32,\n",
    "         'Interaction y-position'),\n",
    "    ]\n",
    "\n",
    "    def setup(self):\n",
    "        # z position of the in-plane SiPMs\n",
    "        z_plane = 10\n",
    "        # radius of the cyinder for SiPMs at the side\n",
    "        r_cylinder = 22\n",
    "        # radius of a SiPM - I assume circular SiPMs with a radius to make the area correspond to a 3x3mm2 square.\n",
    "        r_sipm = 1.6925\n",
    "        # build geometry\n",
    "        geo = GeoParameters(z_plane=z_plane, r_cylinder=r_cylinder, r_sipm=r_sipm)\n",
    "\n",
    "        sipm = SiPM(type=\"plane\", position=[0, -15, z_plane], qeff=0.25)\n",
    "        geo.add_sipm(sipm)\n",
    "        sipm = SiPM(type=\"plane\", position=[-13, -7.5, z_plane], qeff=0.25)\n",
    "        geo.add_sipm(sipm)\n",
    "        sipm = SiPM(type=\"plane\", position=[13, -7.5, z_plane], qeff=0.25)\n",
    "        geo.add_sipm(sipm)\n",
    "        sipm = SiPM(type=\"plane\", position=[-4, 0, z_plane], qeff=0.25)\n",
    "        geo.add_sipm(sipm)\n",
    "        sipm = SiPM(type=\"plane\", position=[4, 0, z_plane], qeff=0.25)\n",
    "        geo.add_sipm(sipm)\n",
    "        sipm = SiPM(type=\"plane\", position=[-13, 7.5, z_plane], qeff=0.25)\n",
    "        geo.add_sipm(sipm)\n",
    "        sipm = SiPM(type=\"plane\", position=[13, 7.5, z_plane], qeff=0.25)\n",
    "        geo.add_sipm(sipm)\n",
    "        \n",
    "        self.geo = geo\n",
    "\n",
    "    def compute_loop(self, events, peaks):\n",
    "        result = dict()\n",
    "        \n",
    "        if not len(peaks):\n",
    "            return result\n",
    "        \n",
    "        s2_index = events['s2_index']\n",
    "        if s2_index == -1 or s2_index > len(peaks[(peaks['type']==2)]) -1 :\n",
    "            return result\n",
    "        \n",
    "        s2_peak = peaks[(peaks['type']==2)][s2_index]\n",
    "        for i, area in enumerate(s2_peak['area_per_channel'][:7]):\n",
    "            self.geo.sipms[i].set_number_of_hits(area)\n",
    "\n",
    "        posrec = Reconstruction(self.geo)\n",
    "        pos = posrec.reconstruct_position('CHI2')\n",
    "        for key in ['xr','yr']:\n",
    "            result[key] = pos[key]\n",
    "        return result\n"
   ]
  },
  {
   "cell_type": "code",
   "execution_count": null,
   "metadata": {},
   "outputs": [],
   "source": [
    "ep = st.get_array(run_id,'event_positions',\n",
    "                 register = EventPositions)"
   ]
  },
  {
   "cell_type": "code",
   "execution_count": null,
   "metadata": {},
   "outputs": [],
   "source": [
    "ep"
   ]
  },
  {
   "cell_type": "code",
   "execution_count": null,
   "metadata": {},
   "outputs": [],
   "source": []
  }
 ],
 "metadata": {
  "kernelspec": {
   "display_name": "Python 3",
   "language": "python",
   "name": "python3"
  },
  "language_info": {
   "codemirror_mode": {
    "name": "ipython",
    "version": 3
   },
   "file_extension": ".py",
   "mimetype": "text/x-python",
   "name": "python",
   "nbconvert_exporter": "python",
   "pygments_lexer": "ipython3",
   "version": "3.6.7"
  }
 },
 "nbformat": 4,
 "nbformat_minor": 2
}
