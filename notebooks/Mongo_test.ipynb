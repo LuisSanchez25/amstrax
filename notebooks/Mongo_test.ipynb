{
 "cells": [
  {
   "cell_type": "code",
   "execution_count": 1,
   "metadata": {},
   "outputs": [],
   "source": [
    "import numpy as np\n",
    "import amstrax\n",
    "import strax\n",
    "import matplotlib.pyplot as plt\n",
    "import pandas as pd\n",
    "import snappy\n",
    "from pymongo import MongoClient\n",
    "%matplotlib inline"
   ]
  },
  {
   "cell_type": "code",
   "execution_count": 2,
   "metadata": {},
   "outputs": [],
   "source": [
    "%matplotlib inline"
   ]
  },
  {
   "cell_type": "code",
   "execution_count": 3,
   "metadata": {
    "code_folding": []
   },
   "outputs": [],
   "source": [
    "# run_id = '190516_095707'_\n",
    "run_id = '190610_085915'"
   ]
  },
  {
   "cell_type": "code",
   "execution_count": 4,
   "metadata": {},
   "outputs": [],
   "source": [
    "st = strax.Context(storage=strax.DataDirectory('./data'),\n",
    "                  register=[amstrax.RecordsFromMongo, amstrax.PulseProcessing, amstrax.Peaks, amstrax.TriggerPeaks],\n",
    "                    register_all=amstrax,\n",
    "#                    config=dict(pax_raw_dir='/data/xenon/xams/run10/raw/data/'),\n",
    "                  )"
   ]
  },
  {
   "cell_type": "code",
   "execution_count": 5,
   "metadata": {
    "scrolled": true
   },
   "outputs": [],
   "source": [
    "# !ls ./data"
   ]
  },
  {
   "cell_type": "code",
   "execution_count": 6,
   "metadata": {},
   "outputs": [],
   "source": [
    " ! rm -r ./data/190610_085915-records*"
   ]
  },
  {
   "cell_type": "code",
   "execution_count": null,
   "metadata": {},
   "outputs": [],
   "source": [
    "# rr = st.get_array(run_id, 'raw_records',config=dict(collection_name = run_id))"
   ]
  },
  {
   "cell_type": "code",
   "execution_count": null,
   "metadata": {},
   "outputs": [],
   "source": [
    "# hits = strax.find_hits(rr,threshold = 15)"
   ]
  },
  {
   "cell_type": "code",
   "execution_count": null,
   "metadata": {
    "scrolled": true
   },
   "outputs": [
    {
     "name": "stdout",
     "output_type": "stream",
     "text": [
      "Almost done!\n"
     ]
    }
   ],
   "source": [
    "%%timeit\n",
    "r = st.get_array(run_id, 'records')"
   ]
  },
  {
   "cell_type": "code",
   "execution_count": null,
   "metadata": {},
   "outputs": [],
   "source": [
    "r[0]"
   ]
  },
  {
   "cell_type": "code",
   "execution_count": null,
   "metadata": {},
   "outputs": [],
   "source": [
    "\n",
    "# def fill_record(raw_records, hits):\n",
    "#     skipper = 0\n",
    "#     tw = 50\n",
    "#     buffer = np.zeros(100,dtype = strax.record_dtype())\n",
    "#     offset = 0\n",
    "#     samples_per_record = strax.DEFAULT_RECORD_LENGTH\n",
    "#     tw = 50\n",
    "#     skipper = 0\n",
    "    \n",
    "#     for i, h in enumerate(hits[15:]):\n",
    "#         if skipper != 0:\n",
    "#             # print(skipper)\n",
    "#             skipper -= 1\n",
    "#             continue\n",
    "\n",
    "#         hit = []\n",
    "#         hit.append(h)\n",
    "#         h_c = hits[hits['channel'] == h['channel']]\n",
    "#         for h_ in h_c:\n",
    "#             if h_['time'] > hit[-1]['time'] and h_['time'] < (hit[-1]['time'] + h['dt'] * tw):\n",
    "#                 hit.append(h_)\n",
    "#             if h_['time'] > (hit[-1]['time'] + h['dt'] * tw):\n",
    "#                 break\n",
    "                \n",
    "#         hit_buffer = np.zeros(len(hit), dtype=strax.hit_dtype)\n",
    "#         for i in range(len(hit)):\n",
    "#             hit_buffer[i] = hit[i]\n",
    "\n",
    "#         dt = hit_buffer[0]['dt']\n",
    "#         start = np.min(hit_buffer['time']) - dt * tw\n",
    "#         end = np.max(hit_buffer['time']) + dt * tw\n",
    "#         p_length = int((end - start) / dt)\n",
    "#         records_needed = int(np.ceil((end - start) / (samples_per_record * dt)))\n",
    "#         # r = np.zeros(records_needed, dtype=strax.record_dtype())\n",
    "\n",
    "#         p_offset = hit_buffer[0]['left'] - tw\n",
    "#         print(hit_buffer)\n",
    "#         p_end = hit_buffer[-1]['right'] + tw\n",
    "#         input_record_index = [np.unique(hit_buffer['record_i']).tolist()][0]\n",
    "\n",
    "#         print(input_record_index)\n",
    "#         if p_offset < 0:\n",
    "#             p_offset += samples_per_record\n",
    "#             input_record_index.append(hit_buffer[0]['record_i'] - 7)\n",
    "\n",
    "#             print('here1', input_record_index)\n",
    "\n",
    "#         if p_end > samples_per_record:\n",
    "#             input_record_index.append(hit_buffer[-1]['record_i'] + 7)\n",
    "#             print('here2', input_record_index)\n",
    "\n",
    "#         input_record_index.sort()\n",
    "#         print(p_offset,p_end)\n",
    "#         print(input_record_index)\n",
    "#         record_buffer = []\n",
    "#         for i in input_record_index:\n",
    "#             record_buffer.extend(list(raw_records[i]['data']))\n",
    "\n",
    "#         n_store = 0\n",
    "#         for rec_i in range(records_needed):\n",
    "#             r_ = buffer[offset + rec_i]\n",
    "#             r_['dt'] = dt\n",
    "#             r_['channel'] = hit_buffer[0]['channel']\n",
    "#             print(r_['channel'])\n",
    "#             r_['length'] = p_length\n",
    "#             r_['record_i'] = rec_i\n",
    "#             r_['time'] = start + rec_i * samples_per_record * dt\n",
    "\n",
    "#             p_offset += n_store\n",
    "#             if rec_i != records_needed - 1:\n",
    "#                 n_store = samples_per_record\n",
    "#                 # if rec_i == 0:\n",
    "#                     # n_store = samples_per_record - p_offset\n",
    "#             else:\n",
    "#                 n_store = p_length - samples_per_record * rec_i\n",
    "#             print(offset,p_length, n_store, p_offset, len(record_buffer))\n",
    "#             r_['data'][:n_store] = record_buffer[p_offset:p_offset + n_store]\n",
    "#             # print(buffer[offset + rec_i])\n"
   ]
  },
  {
   "cell_type": "code",
   "execution_count": null,
   "metadata": {},
   "outputs": [],
   "source": [
    "# records = fill_record(rr, hits)"
   ]
  },
  {
   "cell_type": "code",
   "execution_count": null,
   "metadata": {},
   "outputs": [],
   "source": []
  }
 ],
 "metadata": {
  "kernelspec": {
   "display_name": "Python 3",
   "language": "python",
   "name": "python3"
  },
  "language_info": {
   "codemirror_mode": {
    "name": "ipython",
    "version": 3
   },
   "file_extension": ".py",
   "mimetype": "text/x-python",
   "name": "python",
   "nbconvert_exporter": "python",
   "pygments_lexer": "ipython3",
   "version": "3.6.8"
  }
 },
 "nbformat": 4,
 "nbformat_minor": 2
}
