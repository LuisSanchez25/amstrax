{
 "cells": [
  {
   "cell_type": "code",
   "execution_count": 1,
   "metadata": {},
   "outputs": [],
   "source": [
    "import numpy as np\n",
    "import matplotlib.pyplot as plt\n",
    "import amstrax\n",
    "import strax\n",
    "%matplotlib inline\n",
    "from matplotlib.colors import LogNorm"
   ]
  },
  {
   "cell_type": "code",
   "execution_count": 2,
   "metadata": {},
   "outputs": [],
   "source": [
    "def print_entry(d, n=0, show_data=False):\n",
    "    ''' Print entry number n in human-readable formate.\n",
    "    Default behavior is to skip the entry 'data' since it clutters everything.\n",
    "    '''\n",
    "    # Check what number of spaces required for nice alignment\n",
    "    max_len = np.max([len(key) for key in d.dtype.names])\n",
    "    el = d[n]\n",
    "    for key in d.dtype.names:\n",
    "        if (show_data or key != 'data'):\n",
    "            print((\"{:<%d}: \" % max_len).format(key), el[key])\n",
    "    return"
   ]
  },
  {
   "cell_type": "code",
   "execution_count": 3,
   "metadata": {},
   "outputs": [],
   "source": [
    "run_id = '180314_122555'"
   ]
  },
  {
   "cell_type": "code",
   "execution_count": 13,
   "metadata": {},
   "outputs": [],
   "source": [
    "!rm -rf ./strax_data/180314_122555-event*"
   ]
  },
  {
   "cell_type": "code",
   "execution_count": 5,
   "metadata": {},
   "outputs": [],
   "source": [
    "st = strax.Context(storage=strax.DataDirectory('./strax_data'),\n",
    "                   #register = [amstrax.RecordsFromPax, amstrax.Records, amstrax.Peaks, amstrax.PeakBasics, \n",
    "                   #            amstrax.NCompeting\n",
    "                   #           ],\n",
    "                   register_all=amstrax,\n",
    "                   config=dict(pax_raw_dir='/data/xenon/xams/run9/raw/data/',\n",
    "                               hitfinder_threshold = 25, min_hits = 2, min_area = 1.,\n",
    "                               use_channels = [0, 3],\n",
    "                               nearby_window = 200e3,\n",
    "                               s2_min_area = 1e4,\n",
    "                               s1_max_width = 300,\n",
    "                               s2_min_width = 300,\n",
    "                               s1_min_n_channels = 2,\n",
    "                               trigger_min_area = 1e5,\n",
    "                               left_event_extension = 1e5,\n",
    "                               right_event_extension = 1e5,\n",
    "                               max_event_duration = 1e6\n",
    "                              )\n",
    "                              )"
   ]
  },
  {
   "cell_type": "code",
   "execution_count": 6,
   "metadata": {},
   "outputs": [],
   "source": [
    "#     depends_on = ('events',\n",
    "#                   'peak_basics', 'peak_classification',\n",
    "#                   'peak_positions', 'n_competing')"
   ]
  },
  {
   "cell_type": "code",
   "execution_count": 7,
   "metadata": {},
   "outputs": [
    {
     "data": {
      "text/html": [
       "<div>\n",
       "<style scoped>\n",
       "    .dataframe tbody tr th:only-of-type {\n",
       "        vertical-align: middle;\n",
       "    }\n",
       "\n",
       "    .dataframe tbody tr th {\n",
       "        vertical-align: top;\n",
       "    }\n",
       "\n",
       "    .dataframe thead th {\n",
       "        text-align: right;\n",
       "    }\n",
       "</style>\n",
       "<table border=\"1\" class=\"dataframe\">\n",
       "  <thead>\n",
       "    <tr style=\"text-align: right;\">\n",
       "      <th></th>\n",
       "      <th>option</th>\n",
       "      <th>default</th>\n",
       "      <th>current</th>\n",
       "      <th>applies_to</th>\n",
       "      <th>help</th>\n",
       "    </tr>\n",
       "  </thead>\n",
       "  <tbody>\n",
       "    <tr>\n",
       "      <th>0</th>\n",
       "      <td>min_reconstruction_area</td>\n",
       "      <td>10</td>\n",
       "      <td>&lt;OMITTED&gt;</td>\n",
       "      <td>peak_positions</td>\n",
       "      <td>Skip reconstruction if area (PE) is less than ...</td>\n",
       "    </tr>\n",
       "    <tr>\n",
       "      <th>1</th>\n",
       "      <td>min_hits</td>\n",
       "      <td>1</td>\n",
       "      <td>2</td>\n",
       "      <td>peaks</td>\n",
       "      <td>Minimum number of hits to make a peak</td>\n",
       "    </tr>\n",
       "    <tr>\n",
       "      <th>2</th>\n",
       "      <td>min_area</td>\n",
       "      <td>0</td>\n",
       "      <td>1</td>\n",
       "      <td>peaks</td>\n",
       "      <td>Minimum area of peak</td>\n",
       "    </tr>\n",
       "    <tr>\n",
       "      <th>3</th>\n",
       "      <td>diagnose_sorting</td>\n",
       "      <td>False</td>\n",
       "      <td>&lt;OMITTED&gt;</td>\n",
       "      <td>peaks</td>\n",
       "      <td>Enable runtime checks for sorting and disjoint...</td>\n",
       "    </tr>\n",
       "    <tr>\n",
       "      <th>4</th>\n",
       "      <td>hitfinder_threshold</td>\n",
       "      <td>10</td>\n",
       "      <td>25</td>\n",
       "      <td>peaks</td>\n",
       "      <td>Threshold in ADC counts</td>\n",
       "    </tr>\n",
       "    <tr>\n",
       "      <th>5</th>\n",
       "      <td>left_extension</td>\n",
       "      <td>20</td>\n",
       "      <td>&lt;OMITTED&gt;</td>\n",
       "      <td>peaks</td>\n",
       "      <td>Extend peaks by this many ns left</td>\n",
       "    </tr>\n",
       "    <tr>\n",
       "      <th>6</th>\n",
       "      <td>right_extension</td>\n",
       "      <td>150</td>\n",
       "      <td>&lt;OMITTED&gt;</td>\n",
       "      <td>peaks</td>\n",
       "      <td>Extend peaks by this many ns right</td>\n",
       "    </tr>\n",
       "    <tr>\n",
       "      <th>7</th>\n",
       "      <td>gap_threshold</td>\n",
       "      <td>300</td>\n",
       "      <td>&lt;OMITTED&gt;</td>\n",
       "      <td>peaks</td>\n",
       "      <td>No hits for this much ns means new peak</td>\n",
       "    </tr>\n",
       "    <tr>\n",
       "      <th>8</th>\n",
       "      <td>use_channels</td>\n",
       "      <td>[0, 1, 2, 3, 4, 5, 6, 7, 8, 9, 10, 11, 12, 13,...</td>\n",
       "      <td>[0, 3]</td>\n",
       "      <td>peaks</td>\n",
       "      <td>Channels that correspond to TPC channels</td>\n",
       "    </tr>\n",
       "    <tr>\n",
       "      <th>9</th>\n",
       "      <td>software_zle_channels</td>\n",
       "      <td>[]</td>\n",
       "      <td>&lt;OMITTED&gt;</td>\n",
       "      <td>records</td>\n",
       "      <td>Channels to apply software ZLE to</td>\n",
       "    </tr>\n",
       "    <tr>\n",
       "      <th>10</th>\n",
       "      <td>software_zle_hitfinder_threshold</td>\n",
       "      <td>15</td>\n",
       "      <td>&lt;OMITTED&gt;</td>\n",
       "      <td>records</td>\n",
       "      <td>Min ADC count threshold used if ZLE is applied</td>\n",
       "    </tr>\n",
       "    <tr>\n",
       "      <th>11</th>\n",
       "      <td>software_zle_extension</td>\n",
       "      <td>50</td>\n",
       "      <td>&lt;OMITTED&gt;</td>\n",
       "      <td>records</td>\n",
       "      <td>Number of samples to save around a hit</td>\n",
       "    </tr>\n",
       "    <tr>\n",
       "      <th>12</th>\n",
       "      <td>pax_raw_dir</td>\n",
       "      <td>/data/xenon/raw</td>\n",
       "      <td>/data/xenon/xams/run9/raw/data/</td>\n",
       "      <td>raw_records</td>\n",
       "      <td>Directory with raw pax datasets</td>\n",
       "    </tr>\n",
       "    <tr>\n",
       "      <th>13</th>\n",
       "      <td>stop_after_zips</td>\n",
       "      <td>0</td>\n",
       "      <td>&lt;OMITTED&gt;</td>\n",
       "      <td>raw_records</td>\n",
       "      <td>Convert only this many zip files. 0 = all.</td>\n",
       "    </tr>\n",
       "    <tr>\n",
       "      <th>14</th>\n",
       "      <td>events_per_chunk</td>\n",
       "      <td>50</td>\n",
       "      <td>&lt;OMITTED&gt;</td>\n",
       "      <td>raw_records</td>\n",
       "      <td>Number of events to yield per chunk</td>\n",
       "    </tr>\n",
       "    <tr>\n",
       "      <th>15</th>\n",
       "      <td>tpc_name</td>\n",
       "      <td>XAMS</td>\n",
       "      <td>&lt;OMITTED&gt;</td>\n",
       "      <td>raw_records</td>\n",
       "      <td>Name of your detector</td>\n",
       "    </tr>\n",
       "  </tbody>\n",
       "</table>\n",
       "</div>"
      ],
      "text/plain": [
       "                              option  \\\n",
       "0            min_reconstruction_area   \n",
       "1                           min_hits   \n",
       "2                           min_area   \n",
       "3                   diagnose_sorting   \n",
       "4                hitfinder_threshold   \n",
       "5                     left_extension   \n",
       "6                    right_extension   \n",
       "7                      gap_threshold   \n",
       "8                       use_channels   \n",
       "9              software_zle_channels   \n",
       "10  software_zle_hitfinder_threshold   \n",
       "11            software_zle_extension   \n",
       "12                       pax_raw_dir   \n",
       "13                   stop_after_zips   \n",
       "14                  events_per_chunk   \n",
       "15                          tpc_name   \n",
       "\n",
       "                                              default  \\\n",
       "0                                                  10   \n",
       "1                                                   1   \n",
       "2                                                   0   \n",
       "3                                               False   \n",
       "4                                                  10   \n",
       "5                                                  20   \n",
       "6                                                 150   \n",
       "7                                                 300   \n",
       "8   [0, 1, 2, 3, 4, 5, 6, 7, 8, 9, 10, 11, 12, 13,...   \n",
       "9                                                  []   \n",
       "10                                                 15   \n",
       "11                                                 50   \n",
       "12                                    /data/xenon/raw   \n",
       "13                                                  0   \n",
       "14                                                 50   \n",
       "15                                               XAMS   \n",
       "\n",
       "                            current      applies_to  \\\n",
       "0                         <OMITTED>  peak_positions   \n",
       "1                                 2           peaks   \n",
       "2                                 1           peaks   \n",
       "3                         <OMITTED>           peaks   \n",
       "4                                25           peaks   \n",
       "5                         <OMITTED>           peaks   \n",
       "6                         <OMITTED>           peaks   \n",
       "7                         <OMITTED>           peaks   \n",
       "8                            [0, 3]           peaks   \n",
       "9                         <OMITTED>         records   \n",
       "10                        <OMITTED>         records   \n",
       "11                        <OMITTED>         records   \n",
       "12  /data/xenon/xams/run9/raw/data/     raw_records   \n",
       "13                        <OMITTED>     raw_records   \n",
       "14                        <OMITTED>     raw_records   \n",
       "15                        <OMITTED>     raw_records   \n",
       "\n",
       "                                                 help  \n",
       "0   Skip reconstruction if area (PE) is less than ...  \n",
       "1               Minimum number of hits to make a peak  \n",
       "2                                Minimum area of peak  \n",
       "3   Enable runtime checks for sorting and disjoint...  \n",
       "4                             Threshold in ADC counts  \n",
       "5                   Extend peaks by this many ns left  \n",
       "6                  Extend peaks by this many ns right  \n",
       "7             No hits for this much ns means new peak  \n",
       "8            Channels that correspond to TPC channels  \n",
       "9                   Channels to apply software ZLE to  \n",
       "10     Min ADC count threshold used if ZLE is applied  \n",
       "11             Number of samples to save around a hit  \n",
       "12                    Directory with raw pax datasets  \n",
       "13         Convert only this many zip files. 0 = all.  \n",
       "14                Number of events to yield per chunk  \n",
       "15                              Name of your detector  "
      ]
     },
     "execution_count": 7,
     "metadata": {},
     "output_type": "execute_result"
    }
   ],
   "source": [
    "st.show_config('peak_positions')"
   ]
  },
  {
   "cell_type": "code",
   "execution_count": 9,
   "metadata": {},
   "outputs": [
    {
     "name": "stderr",
     "output_type": "stream",
     "text": [
      "Using TensorFlow backend.\n"
     ]
    }
   ],
   "source": [
    "st.make(run_id, 'peak_positions')"
   ]
  },
  {
   "cell_type": "code",
   "execution_count": null,
   "metadata": {},
   "outputs": [],
   "source": []
  },
  {
   "cell_type": "code",
   "execution_count": 14,
   "metadata": {},
   "outputs": [],
   "source": [
    "ev = st.get_array(run_id, 'events')"
   ]
  },
  {
   "cell_type": "code",
   "execution_count": 16,
   "metadata": {},
   "outputs": [],
   "source": [
    "st.make(run_id, 'event_basics')"
   ]
  },
  {
   "cell_type": "code",
   "execution_count": 17,
   "metadata": {},
   "outputs": [],
   "source": [
    "eb = st.get_array(run_id, 'event_basics')"
   ]
  },
  {
   "cell_type": "code",
   "execution_count": 19,
   "metadata": {},
   "outputs": [
    {
     "name": "stdout",
     "output_type": "stream",
     "text": [
      "n_peaks             :  2\n",
      "drift_time          :  30808\n",
      "s1_index            :  0\n",
      "s1_area             :  8548.0\n",
      "s1_area_fraction_top:  1.0\n",
      "s1_range_50p_area   :  27.402094\n",
      "s1_n_competing      :  2\n",
      "s2_index            :  1\n",
      "s2_area             :  2697189.0\n",
      "s2_area_fraction_top:  1.0\n",
      "s2_range_50p_area   :  450.0356\n",
      "s2_n_competing      :  0\n",
      "x_s2                :  0.0\n",
      "y_s2                :  0.0\n"
     ]
    }
   ],
   "source": [
    "print_entry(eb)"
   ]
  },
  {
   "cell_type": "code",
   "execution_count": 23,
   "metadata": {},
   "outputs": [
    {
     "data": {
      "image/png": "[encoded data removed]",
      "text/plain": [
       "<matplotlib.figure.Figure at 0x7f40c3630780>"
      ]
     },
     "metadata": {
      "needs_background": "light"
     },
     "output_type": "display_data"
    }
   ],
   "source": [
    "plt.hist(eb['drift_time'] * 1e-3, bins=100, histtype='step', range=(0, 100))\n",
    "plt.show()"
   ]
  },
  {
   "cell_type": "code",
   "execution_count": 27,
   "metadata": {},
   "outputs": [
    {
     "data": {
      "image/png": "[encoded data removed]",
      "text/plain": [
       "<matplotlib.figure.Figure at 0x7f40c3493b70>"
      ]
     },
     "metadata": {
      "needs_background": "light"
     },
     "output_type": "display_data"
    }
   ],
   "source": [
    "plt.hist2d(eb['drift_time'] * 1e-3,eb['s1_area'], bins=100, norm=LogNorm(), range=((0, 100), (0, 2e4)))\n",
    "plt.show()"
   ]
  },
  {
   "cell_type": "code",
   "execution_count": 31,
   "metadata": {},
   "outputs": [
    {
     "data": {
      "text/plain": [
       "112.78277777777778"
      ]
     },
     "execution_count": 31,
     "metadata": {},
     "output_type": "execute_result"
    }
   ],
   "source": [
    "203009 / 1800"
   ]
  },
  {
   "cell_type": "code",
   "execution_count": null,
   "metadata": {},
   "outputs": [],
   "source": []
  },
  {
   "cell_type": "code",
   "execution_count": null,
   "metadata": {},
   "outputs": [],
   "source": []
  },
  {
   "cell_type": "code",
   "execution_count": null,
   "metadata": {},
   "outputs": [],
   "source": []
  },
  {
   "cell_type": "code",
   "execution_count": 23,
   "metadata": {},
   "outputs": [
    {
     "data": {
      "text/plain": [
       "array([0., 0., 0., 0., 0., 0., 0., 0., 0., 0., 0., 0., 0., 0., 0., 0., 0.,\n",
       "       0., 0., 0., 0., 0., 0., 0., 0., 0., 0., 0., 0., 0., 0., 0., 0., 0.,\n",
       "       0., 0., 0., 0., 0., 0., 0., 0., 0., 0., 0., 0., 0., 0., 0., 0., 0.,\n",
       "       0., 0., 0., 0., 0., 0., 0., 0., 0., 0., 0., 0., 0., 0., 0., 0., 0.,\n",
       "       0., 0., 0., 0., 0., 0., 0., 0., 0., 0., 0., 0., 0., 0., 0., 0., 0.,\n",
       "       0., 0., 0., 0., 0., 0., 0., 0., 0., 0., 0., 0., 0., 0., 0.])"
      ]
     },
     "execution_count": 23,
     "metadata": {},
     "output_type": "execute_result"
    }
   ],
   "source": [
    "np.zeros(100, float)"
   ]
  },
  {
   "cell_type": "code",
   "execution_count": null,
   "metadata": {},
   "outputs": [],
   "source": []
  },
  {
   "cell_type": "code",
   "execution_count": null,
   "metadata": {},
   "outputs": [],
   "source": []
  },
  {
   "cell_type": "code",
   "execution_count": 9,
   "metadata": {},
   "outputs": [],
   "source": [
    "pt = st.get_array(run_id, 'peak_classification')"
   ]
  },
  {
   "cell_type": "code",
   "execution_count": 10,
   "metadata": {},
   "outputs": [
    {
     "data": {
      "text/plain": [
       "array([(1,), (2,), (1,), (2,), (1,), (2,), (2,), (1,), (2,), (1,), (2,),\n",
       "       (1,), (2,), (1,), (2,), (1,), (2,), (1,), (2,), (2,), (1,), (2,),\n",
       "       (1,), (2,), (1,), (2,), (1,), (2,), (1,), (2,), (2,), (1,), (2,),\n",
       "       (1,), (2,), (2,), (1,), (2,), (1,), (2,), (1,), (2,), (2,), (1,),\n",
       "       (2,), (2,), (1,), (2,), (1,), (2,), (1,), (2,), (1,), (2,), (1,),\n",
       "       (2,), (1,), (2,), (1,), (2,), (1,), (2,), (1,), (2,), (1,), (2,),\n",
       "       (1,), (2,), (2,), (1,), (2,), (2,), (1,), (2,), (2,), (2,), (1,),\n",
       "       (2,), (1,), (2,), (1,), (2,), (1,), (2,), (1,), (2,), (1,), (2,),\n",
       "       (2,), (1,), (2,), (1,), (2,), (1,), (2,), (1,), (2,), (1,), (2,),\n",
       "       (2,)], dtype=[(('Classification of the peak.', 'type'), 'i1')])"
      ]
     },
     "execution_count": 10,
     "metadata": {},
     "output_type": "execute_result"
    }
   ],
   "source": [
    "pt[:100]"
   ]
  },
  {
   "cell_type": "code",
   "execution_count": 26,
   "metadata": {},
   "outputs": [],
   "source": [
    "pb = st.get_array(run_id, 'peak_basics')"
   ]
  },
  {
   "cell_type": "code",
   "execution_count": 28,
   "metadata": {},
   "outputs": [
    {
     "data": {
      "text/plain": [
       "array([2, 2, 2, ..., 2, 2, 2], dtype=int16)"
      ]
     },
     "execution_count": 28,
     "metadata": {},
     "output_type": "execute_result"
    }
   ],
   "source": [
    "pb['n_channels']"
   ]
  },
  {
   "cell_type": "code",
   "execution_count": null,
   "metadata": {},
   "outputs": [],
   "source": []
  },
  {
   "cell_type": "code",
   "execution_count": 22,
   "metadata": {},
   "outputs": [
    {
     "data": {
      "image/png": "[encoded data removed]",
      "text/plain": [
       "<matplotlib.figure.Figure at 0x7f82c80f7da0>"
      ]
     },
     "metadata": {
      "needs_background": "light"
     },
     "output_type": "display_data"
    }
   ],
   "source": [
    "plt.hist(t, bins=100, histtype='step', range=(0, 1e9))\n",
    "plt.show()"
   ]
  },
  {
   "cell_type": "code",
   "execution_count": null,
   "metadata": {},
   "outputs": [],
   "source": []
  },
  {
   "cell_type": "code",
   "execution_count": null,
   "metadata": {},
   "outputs": [],
   "source": []
  },
  {
   "cell_type": "code",
   "execution_count": 7,
   "metadata": {},
   "outputs": [
    {
     "ename": "KeyError",
     "evalue": "'No plugin class registered that provides n_competing'",
     "output_type": "error",
     "traceback": [
      "\u001b[0;31m---------------------------------------------------------------------------\u001b[0m",
      "\u001b[0;31mKeyError\u001b[0m                                  Traceback (most recent call last)",
      "\u001b[0;32m<ipython-input-7-fe0d8af84f0f>\u001b[0m in \u001b[0;36m<module>\u001b[0;34m\u001b[0m\n\u001b[0;32m----> 1\u001b[0;31m \u001b[0mst\u001b[0m\u001b[0;34m.\u001b[0m\u001b[0mshow_config\u001b[0m\u001b[0;34m(\u001b[0m\u001b[0;34m'events'\u001b[0m\u001b[0;34m)\u001b[0m\u001b[0;34m\u001b[0m\u001b[0m\n\u001b[0m",
      "\u001b[0;32m~/strax/strax/context.py\u001b[0m in \u001b[0;36mshow_config\u001b[0;34m(self, data_type, pattern, run_id)\u001b[0m\n\u001b[1;32m    231\u001b[0m             \u001b[0mit\u001b[0m \u001b[0;34m=\u001b[0m \u001b[0;34m[\u001b[0m\u001b[0;34m[\u001b[0m\u001b[0;34m'Context'\u001b[0m\u001b[0;34m,\u001b[0m \u001b[0mself\u001b[0m\u001b[0;34m]\u001b[0m\u001b[0;34m]\u001b[0m\u001b[0;34m\u001b[0m\u001b[0m\n\u001b[1;32m    232\u001b[0m         \u001b[0;32melse\u001b[0m\u001b[0;34m:\u001b[0m\u001b[0;34m\u001b[0m\u001b[0m\n\u001b[0;32m--> 233\u001b[0;31m             \u001b[0mit\u001b[0m \u001b[0;34m=\u001b[0m \u001b[0mself\u001b[0m\u001b[0;34m.\u001b[0m\u001b[0m_get_plugins\u001b[0m\u001b[0;34m(\u001b[0m\u001b[0;34m(\u001b[0m\u001b[0mdata_type\u001b[0m\u001b[0;34m,\u001b[0m\u001b[0;34m)\u001b[0m\u001b[0;34m,\u001b[0m \u001b[0mrun_id\u001b[0m\u001b[0;34m)\u001b[0m\u001b[0;34m.\u001b[0m\u001b[0mitems\u001b[0m\u001b[0;34m(\u001b[0m\u001b[0;34m)\u001b[0m\u001b[0;34m\u001b[0m\u001b[0m\n\u001b[0m\u001b[1;32m    234\u001b[0m         \u001b[0;32mfor\u001b[0m \u001b[0md\u001b[0m\u001b[0;34m,\u001b[0m \u001b[0mp\u001b[0m \u001b[0;32min\u001b[0m \u001b[0mit\u001b[0m\u001b[0;34m:\u001b[0m\u001b[0;34m\u001b[0m\u001b[0m\n\u001b[1;32m    235\u001b[0m             \u001b[0;32mfor\u001b[0m \u001b[0mopt\u001b[0m \u001b[0;32min\u001b[0m \u001b[0mp\u001b[0m\u001b[0;34m.\u001b[0m\u001b[0mtakes_config\u001b[0m\u001b[0;34m.\u001b[0m\u001b[0mvalues\u001b[0m\u001b[0;34m(\u001b[0m\u001b[0;34m)\u001b[0m\u001b[0;34m:\u001b[0m\u001b[0;34m\u001b[0m\u001b[0m\n",
      "\u001b[0;32m~/strax/strax/context.py\u001b[0m in \u001b[0;36m_get_plugins\u001b[0;34m(self, targets, run_id)\u001b[0m\n\u001b[1;32m    376\u001b[0m         \u001b[0;32mfor\u001b[0m \u001b[0mt\u001b[0m \u001b[0;32min\u001b[0m \u001b[0mtargets\u001b[0m\u001b[0;34m:\u001b[0m\u001b[0;34m\u001b[0m\u001b[0m\n\u001b[1;32m    377\u001b[0m             \u001b[0;31m# This works without the LHS too, but your IDE might not get it :-)\u001b[0m\u001b[0;34m\u001b[0m\u001b[0;34m\u001b[0m\u001b[0m\n\u001b[0;32m--> 378\u001b[0;31m             \u001b[0mplugins\u001b[0m\u001b[0;34m[\u001b[0m\u001b[0mt\u001b[0m\u001b[0;34m]\u001b[0m \u001b[0;34m=\u001b[0m \u001b[0mget_plugin\u001b[0m\u001b[0;34m(\u001b[0m\u001b[0mt\u001b[0m\u001b[0;34m)\u001b[0m\u001b[0;34m\u001b[0m\u001b[0m\n\u001b[0m\u001b[1;32m    379\u001b[0m \u001b[0;34m\u001b[0m\u001b[0m\n\u001b[1;32m    380\u001b[0m         \u001b[0;32mreturn\u001b[0m \u001b[0mplugins\u001b[0m\u001b[0;34m\u001b[0m\u001b[0m\n",
      "\u001b[0;32m~/strax/strax/context.py\u001b[0m in \u001b[0;36mget_plugin\u001b[0;34m(d)\u001b[0m\n\u001b[1;32m    330\u001b[0m             \u001b[0mself\u001b[0m\u001b[0;34m.\u001b[0m\u001b[0m_set_plugin_config\u001b[0m\u001b[0;34m(\u001b[0m\u001b[0mp\u001b[0m\u001b[0;34m,\u001b[0m \u001b[0mrun_id\u001b[0m\u001b[0;34m,\u001b[0m \u001b[0mtolerant\u001b[0m\u001b[0;34m=\u001b[0m\u001b[0;32mTrue\u001b[0m\u001b[0;34m)\u001b[0m\u001b[0;34m\u001b[0m\u001b[0m\n\u001b[1;32m    331\u001b[0m \u001b[0;34m\u001b[0m\u001b[0m\n\u001b[0;32m--> 332\u001b[0;31m             \u001b[0mp\u001b[0m\u001b[0;34m.\u001b[0m\u001b[0mdeps\u001b[0m \u001b[0;34m=\u001b[0m \u001b[0;34m{\u001b[0m\u001b[0md\u001b[0m\u001b[0;34m:\u001b[0m \u001b[0mget_plugin\u001b[0m\u001b[0;34m(\u001b[0m\u001b[0md\u001b[0m\u001b[0;34m)\u001b[0m \u001b[0;32mfor\u001b[0m \u001b[0md\u001b[0m \u001b[0;32min\u001b[0m \u001b[0mp\u001b[0m\u001b[0;34m.\u001b[0m\u001b[0mdepends_on\u001b[0m\u001b[0;34m}\u001b[0m\u001b[0;34m\u001b[0m\u001b[0m\n\u001b[0m\u001b[1;32m    333\u001b[0m \u001b[0;34m\u001b[0m\u001b[0m\n\u001b[1;32m    334\u001b[0m             p.lineage = {d: (p.__class__.__name__,\n",
      "\u001b[0;32m~/strax/strax/context.py\u001b[0m in \u001b[0;36m<dictcomp>\u001b[0;34m(.0)\u001b[0m\n\u001b[1;32m    330\u001b[0m             \u001b[0mself\u001b[0m\u001b[0;34m.\u001b[0m\u001b[0m_set_plugin_config\u001b[0m\u001b[0;34m(\u001b[0m\u001b[0mp\u001b[0m\u001b[0;34m,\u001b[0m \u001b[0mrun_id\u001b[0m\u001b[0;34m,\u001b[0m \u001b[0mtolerant\u001b[0m\u001b[0;34m=\u001b[0m\u001b[0;32mTrue\u001b[0m\u001b[0;34m)\u001b[0m\u001b[0;34m\u001b[0m\u001b[0m\n\u001b[1;32m    331\u001b[0m \u001b[0;34m\u001b[0m\u001b[0m\n\u001b[0;32m--> 332\u001b[0;31m             \u001b[0mp\u001b[0m\u001b[0;34m.\u001b[0m\u001b[0mdeps\u001b[0m \u001b[0;34m=\u001b[0m \u001b[0;34m{\u001b[0m\u001b[0md\u001b[0m\u001b[0;34m:\u001b[0m \u001b[0mget_plugin\u001b[0m\u001b[0;34m(\u001b[0m\u001b[0md\u001b[0m\u001b[0;34m)\u001b[0m \u001b[0;32mfor\u001b[0m \u001b[0md\u001b[0m \u001b[0;32min\u001b[0m \u001b[0mp\u001b[0m\u001b[0;34m.\u001b[0m\u001b[0mdepends_on\u001b[0m\u001b[0;34m}\u001b[0m\u001b[0;34m\u001b[0m\u001b[0m\n\u001b[0m\u001b[1;32m    333\u001b[0m \u001b[0;34m\u001b[0m\u001b[0m\n\u001b[1;32m    334\u001b[0m             p.lineage = {d: (p.__class__.__name__,\n",
      "\u001b[0;32m~/strax/strax/context.py\u001b[0m in \u001b[0;36mget_plugin\u001b[0;34m(d)\u001b[0m\n\u001b[1;32m    321\u001b[0m \u001b[0;34m\u001b[0m\u001b[0m\n\u001b[1;32m    322\u001b[0m             \u001b[0;32mif\u001b[0m \u001b[0md\u001b[0m \u001b[0;32mnot\u001b[0m \u001b[0;32min\u001b[0m \u001b[0mself\u001b[0m\u001b[0;34m.\u001b[0m\u001b[0m_plugin_class_registry\u001b[0m\u001b[0;34m:\u001b[0m\u001b[0;34m\u001b[0m\u001b[0m\n\u001b[0;32m--> 323\u001b[0;31m                 \u001b[0;32mraise\u001b[0m \u001b[0mKeyError\u001b[0m\u001b[0;34m(\u001b[0m\u001b[0;34mf\"No plugin class registered that provides {d}\"\u001b[0m\u001b[0;34m)\u001b[0m\u001b[0;34m\u001b[0m\u001b[0m\n\u001b[0m\u001b[1;32m    324\u001b[0m \u001b[0;34m\u001b[0m\u001b[0m\n\u001b[1;32m    325\u001b[0m             \u001b[0mplugins\u001b[0m\u001b[0;34m[\u001b[0m\u001b[0md\u001b[0m\u001b[0;34m]\u001b[0m \u001b[0;34m=\u001b[0m \u001b[0mp\u001b[0m \u001b[0;34m=\u001b[0m \u001b[0mself\u001b[0m\u001b[0;34m.\u001b[0m\u001b[0m_plugin_class_registry\u001b[0m\u001b[0;34m[\u001b[0m\u001b[0md\u001b[0m\u001b[0;34m]\u001b[0m\u001b[0;34m(\u001b[0m\u001b[0;34m)\u001b[0m\u001b[0;34m\u001b[0m\u001b[0m\n",
      "\u001b[0;31mKeyError\u001b[0m: 'No plugin class registered that provides n_competing'"
     ]
    }
   ],
   "source": [
    "st.show_config('events')"
   ]
  },
  {
   "cell_type": "code",
   "execution_count": null,
   "metadata": {},
   "outputs": [],
   "source": []
  },
  {
   "cell_type": "code",
   "execution_count": null,
   "metadata": {},
   "outputs": [],
   "source": []
  },
  {
   "cell_type": "code",
   "execution_count": null,
   "metadata": {},
   "outputs": [],
   "source": [
    "st.get_array('n_competing')"
   ]
  },
  {
   "cell_type": "code",
   "execution_count": null,
   "metadata": {},
   "outputs": [],
   "source": []
  },
  {
   "cell_type": "code",
   "execution_count": null,
   "metadata": {},
   "outputs": [],
   "source": []
  },
  {
   "cell_type": "code",
   "execution_count": 19,
   "metadata": {},
   "outputs": [
    {
     "name": "stdout",
     "output_type": "stream",
     "text": [
      "time             :  1521030355007373706\n",
      "endtime          :  1521030355007373958\n",
      "area             :  8548.0\n",
      "n_channels       :  2\n",
      "max_pmt          :  3\n",
      "max_pmt_area     :  6123\n",
      "range_50p_area   :  27.402094\n",
      "area_fraction_top:  1.0\n",
      "length           :  126\n",
      "dt               :  2\n"
     ]
    }
   ],
   "source": [
    "print_entry(pb, show_data=True)"
   ]
  },
  {
   "cell_type": "code",
   "execution_count": 21,
   "metadata": {},
   "outputs": [
    {
     "data": {
      "image/png": "[encoded data removed]",
      "text/plain": [
       "<matplotlib.figure.Figure at 0x7f5d78155eb8>"
      ]
     },
     "metadata": {
      "needs_background": "light"
     },
     "output_type": "display_data"
    }
   ],
   "source": [
    "plt.hist2d(np.log10(pb['range_50p_area']), np.log10(pb['area']), bins=100, norm=LogNorm(), range=((1, 4), (2, 7)))\n",
    "plt.axvline(2.5)\n",
    "# plt.axhline(2.5)\n",
    "\n",
    "plt.show()"
   ]
  },
  {
   "cell_type": "code",
   "execution_count": 8,
   "metadata": {},
   "outputs": [
    {
     "data": {
      "text/plain": [
       "316.22776601683796"
      ]
     },
     "execution_count": 8,
     "metadata": {},
     "output_type": "execute_result"
    }
   ],
   "source": [
    "10**2.5"
   ]
  },
  {
   "cell_type": "code",
   "execution_count": null,
   "metadata": {},
   "outputs": [],
   "source": [
    "st.get_array"
   ]
  },
  {
   "cell_type": "code",
   "execution_count": null,
   "metadata": {},
   "outputs": [],
   "source": []
  },
  {
   "cell_type": "code",
   "execution_count": null,
   "metadata": {},
   "outputs": [],
   "source": []
  },
  {
   "cell_type": "code",
   "execution_count": null,
   "metadata": {},
   "outputs": [],
   "source": []
  },
  {
   "cell_type": "code",
   "execution_count": null,
   "metadata": {},
   "outputs": [],
   "source": []
  },
  {
   "cell_type": "code",
   "execution_count": 20,
   "metadata": {},
   "outputs": [
    {
     "data": {
      "text/plain": [
       "array([4.507181 , 4.621415 , 6.4308524, ..., 4.604226 , 6.325963 ,\n",
       "       3.5715923], dtype=float32)"
      ]
     },
     "execution_count": 20,
     "metadata": {},
     "output_type": "execute_result"
    }
   ],
   "source": [
    "np.log10(p['area'])"
   ]
  },
  {
   "cell_type": "code",
   "execution_count": 23,
   "metadata": {},
   "outputs": [
    {
     "data": {
      "image/png": "[encoded data removed]",
      "text/plain": [
       "<matplotlib.figure.Figure at 0x7fa9a00a4898>"
      ]
     },
     "metadata": {
      "needs_background": "light"
     },
     "output_type": "display_data"
    }
   ],
   "source": [
    "plt.hist2d(np.log10(p['width'][:, 5]), np.log10(p['area']), bins=100, norm=LogNorm(), range=((1, 4), (2, 7)))\n",
    "plt.axvline(2.5)\n",
    "# plt.axhline(2.5)\n",
    "\n",
    "plt.show()"
   ]
  },
  {
   "cell_type": "code",
   "execution_count": null,
   "metadata": {},
   "outputs": [],
   "source": [
    "p[]"
   ]
  },
  {
   "cell_type": "code",
   "execution_count": null,
   "metadata": {},
   "outputs": [],
   "source": []
  },
  {
   "cell_type": "code",
   "execution_count": 20,
   "metadata": {},
   "outputs": [
    {
     "name": "stdout",
     "output_type": "stream",
     "text": [
      "channel             :  -1\n",
      "dt                  :  6\n",
      "time                :  1521030355014274348\n",
      "length              :  163\n",
      "area                :  42145.0\n",
      "area_per_channel    :  [ 2723     0     0  4835 34587     0     0     0     0     0     0     0\n",
      "     0     0     0     0]\n",
      "n_hits              :  25\n",
      "width               :  [  0.      199.0243  192.19618 208.58002 230.25485 256.9677  288.4988\n",
      " 333.9838  408.6782  531.1344  823.7953 ]\n",
      "saturated_channel   :  [1 0 0 1 1 0 0 0 0 0 0 0 0 0 0 0]\n",
      "n_saturated_channels:  3\n"
     ]
    }
   ],
   "source": [
    "print_entry(p, 7)"
   ]
  },
  {
   "cell_type": "code",
   "execution_count": 21,
   "metadata": {},
   "outputs": [],
   "source": [
    "r = st.get_array(run_id, 'records')"
   ]
  },
  {
   "cell_type": "code",
   "execution_count": 22,
   "metadata": {},
   "outputs": [
    {
     "data": {
      "text/plain": [
       "array([8191.725, 8269.775, 8191.   , ..., 8268.   , 8258.   , 8268.   ],\n",
       "      dtype=float32)"
      ]
     },
     "execution_count": 22,
     "metadata": {},
     "output_type": "execute_result"
    }
   ],
   "source": [
    "r['baseline']"
   ]
  },
  {
   "cell_type": "code",
   "execution_count": 28,
   "metadata": {},
   "outputs": [
    {
     "data": {
      "text/plain": [
       "9946153"
      ]
     },
     "execution_count": 28,
     "metadata": {},
     "output_type": "execute_result"
    }
   ],
   "source": [
    "len(max_in_record)"
   ]
  },
  {
   "cell_type": "code",
   "execution_count": 30,
   "metadata": {},
   "outputs": [
    {
     "data": {
      "text/plain": [
       "array([8191.725, 8269.775, 8191.   , ..., 8268.   , 8258.   , 8268.   ],\n",
       "      dtype=float32)"
      ]
     },
     "execution_count": 30,
     "metadata": {},
     "output_type": "execute_result"
    }
   ],
   "source": [
    "r['baseline']"
   ]
  }
 ],
 "metadata": {
  "kernelspec": {
   "display_name": "Python 3",
   "language": "python",
   "name": "python3"
  },
  "language_info": {
   "codemirror_mode": {
    "name": "ipython",
    "version": 3
   },
   "file_extension": ".py",
   "mimetype": "text/x-python",
   "name": "python",
   "nbconvert_exporter": "python",
   "pygments_lexer": "ipython3",
   "version": "3.6.2"
  }
 },
 "nbformat": 4,
 "nbformat_minor": 2
}
