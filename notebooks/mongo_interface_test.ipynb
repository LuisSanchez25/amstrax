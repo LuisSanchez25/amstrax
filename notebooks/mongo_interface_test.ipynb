{
 "cells": [
  {
   "cell_type": "code",
   "execution_count": 1,
   "metadata": {
    "collapsed": true
   },
   "outputs": [],
   "source": [
    "import numpy as np\n",
    "import matplotlib.pyplot as plt\n",
    "import amstrax\n",
    "import strax\n",
    "%matplotlib inline"
   ]
  },
  {
   "cell_type": "code",
   "execution_count": 2,
   "metadata": {
    "collapsed": true
   },
   "outputs": [],
   "source": [
    "run_id = '190124_114450'"
   ]
  },
  {
   "cell_type": "code",
   "execution_count": 3,
   "metadata": {
    "collapsed": true
   },
   "outputs": [],
   "source": [
    "!rm -rf ./strax_data/190124_114450-peaks-*"
   ]
  },
  {
   "cell_type": "code",
   "execution_count": 4,
   "metadata": {
    "collapsed": true
   },
   "outputs": [],
   "source": [
    "st = strax.Context(storage=strax.DataDirectory('./strax_data'),\n",
    "                   register = [amstrax.RecordsFromMongo, amstrax.Records, amstrax.Peaks],\n",
    "                   config=dict(collection_name = run_id, events_per_chunk = 1000, \n",
    "                               software_zle_hitfinder_threshold=10, software_zle_channels = [0, 1,2,3,4,5,6,7],\n",
    "                               software_zle_extension = 20, hitfinder_threshold = 10, min_hits=1\n",
    "                              ))"
   ]
  },
  {
   "cell_type": "code",
   "execution_count": 5,
   "metadata": {
    "collapsed": false
   },
   "outputs": [
    {
     "name": "stdout",
     "output_type": "stream",
     "text": [
      "CPU times: user 933 ms, sys: 212 ms, total: 1.14 s\n",
      "Wall time: 624 ms\n"
     ]
    }
   ],
   "source": [
    "%%time\n",
    "st.make(run_id, 'raw_records')"
   ]
  },
  {
   "cell_type": "code",
   "execution_count": 6,
   "metadata": {
    "collapsed": false
   },
   "outputs": [],
   "source": [
    "st.make(run_id, 'records')"
   ]
  },
  {
   "cell_type": "code",
   "execution_count": 7,
   "metadata": {
    "collapsed": false
   },
   "outputs": [],
   "source": [
    "st.make(run_id, 'peaks')"
   ]
  },
  {
   "cell_type": "code",
   "execution_count": 8,
   "metadata": {
    "collapsed": true
   },
   "outputs": [],
   "source": [
    "p = st.get_array(run_id, 'peaks')"
   ]
  },
  {
   "cell_type": "code",
   "execution_count": 10,
   "metadata": {
    "collapsed": false
   },
   "outputs": [
    {
     "data": {
      "text/html": [
       "<div>\n",
       "<style scoped>\n",
       "    .dataframe tbody tr th:only-of-type {\n",
       "        vertical-align: middle;\n",
       "    }\n",
       "\n",
       "    .dataframe tbody tr th {\n",
       "        vertical-align: top;\n",
       "    }\n",
       "\n",
       "    .dataframe thead th {\n",
       "        text-align: right;\n",
       "    }\n",
       "</style>\n",
       "<table border=\"1\" class=\"dataframe\">\n",
       "  <thead>\n",
       "    <tr style=\"text-align: right;\">\n",
       "      <th></th>\n",
       "      <th>Field name</th>\n",
       "      <th>Data type</th>\n",
       "      <th>Comment</th>\n",
       "    </tr>\n",
       "  </thead>\n",
       "  <tbody>\n",
       "    <tr>\n",
       "      <th>0</th>\n",
       "      <td>channel</td>\n",
       "      <td>int16</td>\n",
       "      <td>Channel/PMT number</td>\n",
       "    </tr>\n",
       "    <tr>\n",
       "      <th>1</th>\n",
       "      <td>dt</td>\n",
       "      <td>int16</td>\n",
       "      <td>Time resolution in ns</td>\n",
       "    </tr>\n",
       "    <tr>\n",
       "      <th>2</th>\n",
       "      <td>time</td>\n",
       "      <td>int64</td>\n",
       "      <td>Start time of the interval (ns since unix epoch)</td>\n",
       "    </tr>\n",
       "    <tr>\n",
       "      <th>3</th>\n",
       "      <td>length</td>\n",
       "      <td>int32</td>\n",
       "      <td>Length of the interval in samples</td>\n",
       "    </tr>\n",
       "    <tr>\n",
       "      <th>4</th>\n",
       "      <td>area</td>\n",
       "      <td>float32</td>\n",
       "      <td>Integral across channels in photoelectrons</td>\n",
       "    </tr>\n",
       "    <tr>\n",
       "      <th>5</th>\n",
       "      <td>area_per_channel</td>\n",
       "      <td>('&lt;i4', (16,))</td>\n",
       "      <td>Integral per channel in ADX x samples (not PE!)</td>\n",
       "    </tr>\n",
       "    <tr>\n",
       "      <th>6</th>\n",
       "      <td>n_hits</td>\n",
       "      <td>int16</td>\n",
       "      <td>Number of hits from which peak was constructed...</td>\n",
       "    </tr>\n",
       "    <tr>\n",
       "      <th>7</th>\n",
       "      <td>data</td>\n",
       "      <td>('&lt;f4', (200,))</td>\n",
       "      <td>Waveform data in PE/sample (not PE/ns!)</td>\n",
       "    </tr>\n",
       "    <tr>\n",
       "      <th>8</th>\n",
       "      <td>width</td>\n",
       "      <td>('&lt;f4', (11,))</td>\n",
       "      <td>Peak widths in ns: range of central area fraction</td>\n",
       "    </tr>\n",
       "    <tr>\n",
       "      <th>9</th>\n",
       "      <td>saturated_channel</td>\n",
       "      <td>('&lt;i2', (16,))</td>\n",
       "      <td>Check if channel is saturated</td>\n",
       "    </tr>\n",
       "    <tr>\n",
       "      <th>10</th>\n",
       "      <td>n_saturated_channels</td>\n",
       "      <td>int16</td>\n",
       "      <td>Total number of saturated channels</td>\n",
       "    </tr>\n",
       "  </tbody>\n",
       "</table>\n",
       "</div>"
      ],
      "text/plain": [
       "              Field name        Data type  \\\n",
       "0                channel            int16   \n",
       "1                     dt            int16   \n",
       "2                   time            int64   \n",
       "3                 length            int32   \n",
       "4                   area          float32   \n",
       "5       area_per_channel   ('<i4', (16,))   \n",
       "6                 n_hits            int16   \n",
       "7                   data  ('<f4', (200,))   \n",
       "8                  width   ('<f4', (11,))   \n",
       "9      saturated_channel   ('<i2', (16,))   \n",
       "10  n_saturated_channels            int16   \n",
       "\n",
       "                                              Comment  \n",
       "0                                  Channel/PMT number  \n",
       "1                               Time resolution in ns  \n",
       "2    Start time of the interval (ns since unix epoch)  \n",
       "3                   Length of the interval in samples  \n",
       "4          Integral across channels in photoelectrons  \n",
       "5     Integral per channel in ADX x samples (not PE!)  \n",
       "6   Number of hits from which peak was constructed...  \n",
       "7             Waveform data in PE/sample (not PE/ns!)  \n",
       "8   Peak widths in ns: range of central area fraction  \n",
       "9                       Check if channel is saturated  \n",
       "10                 Total number of saturated channels  "
      ]
     },
     "execution_count": 10,
     "metadata": {},
     "output_type": "execute_result"
    }
   ],
   "source": [
    "st.data_info('peaks')"
   ]
  },
  {
   "cell_type": "code",
   "execution_count": 12,
   "metadata": {
    "collapsed": false
   },
   "outputs": [],
   "source": [
    "r = st.get_array(run_id, 'records')"
   ]
  },
  {
   "cell_type": "code",
   "execution_count": 14,
   "metadata": {
    "collapsed": false
   },
   "outputs": [
    {
     "ename": "AssertionError",
     "evalue": "",
     "output_type": "error",
     "traceback": [
      "\u001b[0;31m---------------------------------------------------------------------------\u001b[0m",
      "\u001b[0;31mAssertionError\u001b[0m                            Traceback (most recent call last)",
      "\u001b[0;32m<ipython-input-14-65dfd187ca47>\u001b[0m in \u001b[0;36m<module>\u001b[0;34m\u001b[0m\n\u001b[0;32m----> 1\u001b[0;31m \u001b[0mstrax\u001b[0m\u001b[0;34m.\u001b[0m\u001b[0msum_waveform\u001b[0m\u001b[0;34m(\u001b[0m\u001b[0mp\u001b[0m\u001b[0;34m,\u001b[0m \u001b[0mr\u001b[0m\u001b[0;34m,\u001b[0m \u001b[0mnp\u001b[0m\u001b[0;34m.\u001b[0m\u001b[0mones\u001b[0m\u001b[0;34m(\u001b[0m\u001b[0;36m16\u001b[0m\u001b[0;34m)\u001b[0m\u001b[0;34m,\u001b[0m \u001b[0mn_channels\u001b[0m\u001b[0;34m=\u001b[0m\u001b[0;36m16\u001b[0m\u001b[0;34m)\u001b[0m\u001b[0;34m\u001b[0m\u001b[0m\n\u001b[0m",
      "\u001b[0;32m/data/xenon/xams/anaconda3/envs/strax/lib/python3.6/site-packages/strax/processing/peak_building.py\u001b[0m in \u001b[0;36msum_waveform\u001b[0;34m()\u001b[0m\n\u001b[1;32m    157\u001b[0m             \u001b[0mr_start\u001b[0m \u001b[0;34m=\u001b[0m \u001b[0mmax\u001b[0m\u001b[0;34m(\u001b[0m\u001b[0;36m0\u001b[0m\u001b[0;34m,\u001b[0m \u001b[0ms\u001b[0m\u001b[0;34m)\u001b[0m\u001b[0;34m\u001b[0m\u001b[0m\n\u001b[1;32m    158\u001b[0m             \u001b[0mr_end\u001b[0m \u001b[0;34m=\u001b[0m \u001b[0mmin\u001b[0m\u001b[0;34m(\u001b[0m\u001b[0mn_r\u001b[0m\u001b[0;34m,\u001b[0m \u001b[0ms\u001b[0m \u001b[0;34m+\u001b[0m \u001b[0mn_p\u001b[0m\u001b[0;34m)\u001b[0m\u001b[0;34m\u001b[0m\u001b[0m\n\u001b[0;32m--> 159\u001b[0;31m             \u001b[0;32massert\u001b[0m \u001b[0mr_end\u001b[0m \u001b[0;34m>\u001b[0m \u001b[0mr_start\u001b[0m\u001b[0;34m\u001b[0m\u001b[0m\n\u001b[0m\u001b[1;32m    160\u001b[0m \u001b[0;34m\u001b[0m\u001b[0m\n\u001b[1;32m    161\u001b[0m             \u001b[0mmax_in_record\u001b[0m \u001b[0;34m=\u001b[0m \u001b[0mr\u001b[0m\u001b[0;34m[\u001b[0m\u001b[0;34m'data'\u001b[0m\u001b[0;34m]\u001b[0m\u001b[0;34m[\u001b[0m\u001b[0mr_start\u001b[0m\u001b[0;34m:\u001b[0m\u001b[0mr_end\u001b[0m\u001b[0;34m]\u001b[0m\u001b[0;34m.\u001b[0m\u001b[0mmax\u001b[0m\u001b[0;34m(\u001b[0m\u001b[0;34m)\u001b[0m\u001b[0;34m\u001b[0m\u001b[0m\n",
      "\u001b[0;31mAssertionError\u001b[0m: "
     ]
    }
   ],
   "source": [
    "strax.sum_waveform(p, r, np.ones(16), n_channels=16)"
   ]
  },
  {
   "cell_type": "code",
   "execution_count": 25,
   "metadata": {
    "collapsed": true
   },
   "outputs": [],
   "source": [
    "def sum_waveform(peaks, records, adc_to_pe, n_channels=248):\n",
    "    \"\"\"Compute sum waveforms for all peaks in peaks\n",
    "    Will downsample sum waveforms if they do not fit in per-peak buffer\n",
    "    \n",
    "    :param n_channels: Number of channels that contribute to the total area\n",
    "    and n_saturated_channels.\n",
    "    For further channels we still calculate area_per_channel and saturated_channel.\n",
    "    Assumes all peaks and pulses have the same dt\n",
    "    \"\"\"\n",
    "    if not len(records):\n",
    "        return\n",
    "    if not len(peaks):\n",
    "        return\n",
    "    dt = records[0]['dt']\n",
    "    sum_wv_samples = len(peaks[0]['data'])\n",
    "\n",
    "    # Big buffer to hold even largest sum waveforms\n",
    "    # Need a little more even for downsampling..\n",
    "    swv_buffer = np.zeros(peaks['length'].max() * 2, dtype=np.float32)\n",
    "\n",
    "    # Index of first record that could still contribute to subsequent peaks\n",
    "    # Records before this do not need to be considered anymore\n",
    "    left_r_i = 0\n",
    "\n",
    "    for peak_i, p in enumerate(peaks):\n",
    "        # Clear the relevant part of the swv buffer for use\n",
    "        # (we clear a bit extra for use in downsampling)\n",
    "        p_length = p['length']\n",
    "        swv_buffer[:min(2 * p_length, len(swv_buffer))] = 0\n",
    "\n",
    "        # Find first record that contributes to this peak\n",
    "        for left_r_i in range(left_r_i, len(records)):\n",
    "            r = records[left_r_i]\n",
    "            # TODO: need test that fails if we replace < with <= here\n",
    "            if p['time'] < r['time'] + r['length']:\n",
    "                break\n",
    "        else:\n",
    "            # Records exhausted before peaks exhausted\n",
    "            # TODO: this is a strange case, maybe raise warning/error?\n",
    "            break\n",
    "\n",
    "        # Scan over records that overlap\n",
    "        for right_r_i in range(left_r_i, len(records)):\n",
    "            r = records[right_r_i]\n",
    "            ch = r['channel']\n",
    "\n",
    "            s = int((p['time'] - r['time']) // dt)\n",
    "            n_r = r['length']\n",
    "            n_p = p_length\n",
    "\n",
    "            if s <= -n_p:\n",
    "                # Record is completely to the right of the peak;\n",
    "                # we've seen all overlapping records\n",
    "                break\n",
    "\n",
    "            # Range of record that contributes to peak\n",
    "            r_start = max(0, s)\n",
    "            r_end = min(n_r, s + n_p)\n",
    "            if not r_end > r_start:\n",
    "                print('Record index: ', right_r_i)\n",
    "                print('peak index: ', peak_i)\n",
    "            assert r_end > r_start\n",
    "            \n",
    "            max_in_record = r['data'][r_start:r_end].max()\n",
    "            p['saturated_channel'][ch] = int(max_in_record < r['baseline'])\n",
    "\n",
    "            # TODO Do we need .astype(np.int32).sum() ??\n",
    "            p['area_per_channel'][ch] += r['data'][r_start:r_end].sum()\n",
    "            \n",
    "            # Range of peak that receives record\n",
    "            p_start = max(0, -s)\n",
    "            p_end = min(n_p, -s + n_r)\n",
    "\n",
    "            assert p_end - p_start == r_end - r_start, \"Ouch, off-by-one error\"\n",
    "\n",
    "            if p_end - p_start > 0:\n",
    "                swv_buffer[p_start:p_end] += \\\n",
    "                    r['data'][r_start:r_end] * adc_to_pe[ch]\n",
    "\n",
    "        # Store the sum waveform\n",
    "        # Do we need to downsample the swv to store it?\n",
    "        downs_f = int(np.ceil(p_length / sum_wv_samples))\n",
    "        if downs_f > 1:\n",
    "            # New number of samples in the peak\n",
    "            new_ns = p['length'] = int(np.ceil(p_length / downs_f))\n",
    "            p['data'][:new_ns] = \\\n",
    "                swv_buffer[:new_ns * downs_f].reshape(-1, downs_f).sum(axis=1)\n",
    "            p['dt'] *= downs_f\n",
    "        else:\n",
    "            p['data'][:p_length] = swv_buffer[:p_length]\n",
    "\n",
    "        # Store the total area and saturation count\n",
    "        p['area'] = (p['area_per_channel'][:n_channels] * adc_to_pe[:n_channels]).sum()\n",
    "        p['n_saturated_channels'] = p['saturated_channel'][:n_channels].sum()\n"
   ]
  },
  {
   "cell_type": "code",
   "execution_count": 26,
   "metadata": {
    "collapsed": false
   },
   "outputs": [
    {
     "name": "stdout",
     "output_type": "stream",
     "text": [
      "Record index:  13758\n",
      "peak index:  5911\n"
     ]
    },
    {
     "ename": "AssertionError",
     "evalue": "",
     "output_type": "error",
     "traceback": [
      "\u001b[0;31m---------------------------------------------------------------------------\u001b[0m",
      "\u001b[0;31mAssertionError\u001b[0m                            Traceback (most recent call last)",
      "\u001b[0;32m<ipython-input-26-8c63e397c549>\u001b[0m in \u001b[0;36m<module>\u001b[0;34m\u001b[0m\n\u001b[0;32m----> 1\u001b[0;31m \u001b[0msum_waveform\u001b[0m\u001b[0;34m(\u001b[0m\u001b[0mp\u001b[0m\u001b[0;34m,\u001b[0m \u001b[0mr\u001b[0m\u001b[0;34m,\u001b[0m \u001b[0mnp\u001b[0m\u001b[0;34m.\u001b[0m\u001b[0mones\u001b[0m\u001b[0;34m(\u001b[0m\u001b[0;36m16\u001b[0m\u001b[0;34m)\u001b[0m\u001b[0;34m,\u001b[0m \u001b[0mn_channels\u001b[0m\u001b[0;34m=\u001b[0m\u001b[0;36m16\u001b[0m\u001b[0;34m)\u001b[0m\u001b[0;34m\u001b[0m\u001b[0m\n\u001b[0m",
      "\u001b[0;32m<ipython-input-25-9592f51912e7>\u001b[0m in \u001b[0;36msum_waveform\u001b[0;34m(peaks, records, adc_to_pe, n_channels)\u001b[0m\n\u001b[1;32m     60\u001b[0m                 \u001b[0mprint\u001b[0m\u001b[0;34m(\u001b[0m\u001b[0;34m'Record index: '\u001b[0m\u001b[0;34m,\u001b[0m \u001b[0mright_r_i\u001b[0m\u001b[0;34m)\u001b[0m\u001b[0;34m\u001b[0m\u001b[0m\n\u001b[1;32m     61\u001b[0m                 \u001b[0mprint\u001b[0m\u001b[0;34m(\u001b[0m\u001b[0;34m'peak index: '\u001b[0m\u001b[0;34m,\u001b[0m \u001b[0mpeak_i\u001b[0m\u001b[0;34m)\u001b[0m\u001b[0;34m\u001b[0m\u001b[0m\n\u001b[0;32m---> 62\u001b[0;31m             \u001b[0;32massert\u001b[0m \u001b[0mr_end\u001b[0m \u001b[0;34m>\u001b[0m \u001b[0mr_start\u001b[0m\u001b[0;34m\u001b[0m\u001b[0m\n\u001b[0m\u001b[1;32m     63\u001b[0m \u001b[0;34m\u001b[0m\u001b[0m\n\u001b[1;32m     64\u001b[0m             \u001b[0mmax_in_record\u001b[0m \u001b[0;34m=\u001b[0m \u001b[0mr\u001b[0m\u001b[0;34m[\u001b[0m\u001b[0;34m'data'\u001b[0m\u001b[0;34m]\u001b[0m\u001b[0;34m[\u001b[0m\u001b[0mr_start\u001b[0m\u001b[0;34m:\u001b[0m\u001b[0mr_end\u001b[0m\u001b[0;34m]\u001b[0m\u001b[0;34m.\u001b[0m\u001b[0mmax\u001b[0m\u001b[0;34m(\u001b[0m\u001b[0;34m)\u001b[0m\u001b[0;34m\u001b[0m\u001b[0m\n",
      "\u001b[0;31mAssertionError\u001b[0m: "
     ]
    }
   ],
   "source": [
    "sum_waveform(p, r, np.ones(16), n_channels=16)"
   ]
  },
  {
   "cell_type": "code",
   "execution_count": 27,
   "metadata": {
    "collapsed": false
   },
   "outputs": [
    {
     "data": {
      "text/plain": [
       "(-1, 10, 9419946, 18, 0., [  0,   0,   0,   0,   0,   0,   0,   0, -45,   0,   0,   0,   0,   0,   0,   0], 1, [0., 0., 0., 0., 0., 0., 0., 0., 0., 0., 0., 0., 0., 0., 0., 0., 0., 0., 0., 0., 0., 0., 0., 0., 0., 0., 0., 0., 0., 0., 0., 0., 0., 0., 0., 0., 0., 0., 0., 0., 0., 0., 0., 0., 0., 0., 0., 0., 0., 0., 0., 0., 0., 0., 0., 0., 0., 0., 0., 0., 0., 0., 0., 0., 0., 0., 0., 0., 0., 0., 0., 0., 0., 0., 0., 0., 0., 0., 0., 0., 0., 0., 0., 0., 0., 0., 0., 0., 0., 0., 0., 0., 0., 0., 0., 0., 0., 0., 0., 0., 0., 0., 0., 0., 0., 0., 0., 0., 0., 0., 0., 0., 0., 0., 0., 0., 0., 0., 0., 0., 0., 0., 0., 0., 0., 0., 0., 0., 0., 0., 0., 0., 0., 0., 0., 0., 0., 0., 0., 0., 0., 0., 0., 0., 0., 0., 0., 0., 0., 0., 0., 0., 0., 0., 0., 0., 0., 0., 0., 0., 0., 0., 0., 0., 0., 0., 0., 0., 0., 0., 0., 0., 0., 0., 0., 0., 0., 0., 0., 0., 0., 0., 0., 0., 0., 0., 0., 0., 0., 0., 0., 0., 0., 0., 0., 0., 0., 0., 0., 0.], [0., 0., 0., 0., 0., 0., 0., 0., 0., 0., 0.], [0, 0, 0, 0, 0, 0, 0, 0, 0, 0, 0, 0, 0, 0, 0, 0], 0)"
      ]
     },
     "execution_count": 27,
     "metadata": {},
     "output_type": "execute_result"
    }
   ],
   "source": [
    "p[5911]"
   ]
  },
  {
   "cell_type": "code",
   "execution_count": 29,
   "metadata": {
    "collapsed": false
   },
   "outputs": [
    {
     "data": {
      "text/plain": [
       "(8, 10, 9419906, 96, 25, 96, 0, -8359.3, 0, [-4, -2, -2,  1, -3,  1,  1,  1,  1, -1,  1,  2, -1, -2, -1, -2, -2, -1,  2, -1, -3, -1, -1, -1,  0, -1,  1, -1, -1,  0,  1,  1, -1, -1, -1,  0,  6, 13,  7,  7,  4,  2,  0, -1, -3, -2,  0,  1,  0,  0,  1,  0, -1, -3, 10, 13,  8,  5,  5,  1,  2, -2, -2, -1, -1, -2,  0, -1, -1,  1,  0,  3, -1, -1, -2, -2,  0, -3, -2, -2, -2, -2,  0,  0, -1, -1,  0,  0,  0, -1,  1,  0, -2, -1, -1,  0,  0,  0,  0,  0,  0,  0,  0,  0,  0,  0,  0,  0,  0,  0])"
      ]
     },
     "execution_count": 29,
     "metadata": {},
     "output_type": "execute_result"
    }
   ],
   "source": [
    "r[13757]"
   ]
  },
  {
   "cell_type": "code",
   "execution_count": 30,
   "metadata": {
    "collapsed": false
   },
   "outputs": [
    {
     "data": {
      "text/plain": [
       "(8, 10, 9419922, 2, -3, 112, 1, -8359., 0, [-1, -2,  0,  0,  0,  0,  0,  0,  0,  0,  0,  0,  0,  0,  0,  0,  0,  0,  0,  0,  0,  0,  0,  0,  0,  0,  0,  0,  0,  0,  0,  0,  0,  0,  0,  0,  0,  0,  0,  0,  0,  0,  0,  0,  0,  0,  0,  0,  0,  0,  0,  0,  0,  0,  0,  0,  0,  0,  0,  0,  0,  0,  0,  0,  0,  0,  0,  0,  0,  0,  0,  0,  0,  0,  0,  0,  0,  0,  0,  0,  0,  0,  0,  0,  0,  0,  0,  0,  0,  0,  0,  0,  0,  0,  0,  0,  0,  0,  0,  0,  0,  0,  0,  0,  0,  0,  0,  0,  0,  0])"
      ]
     },
     "execution_count": 30,
     "metadata": {},
     "output_type": "execute_result"
    }
   ],
   "source": [
    "r[13758]"
   ]
  },
  {
   "cell_type": "code",
   "execution_count": 44,
   "metadata": {
    "collapsed": false
   },
   "outputs": [
    {
     "data": {
      "text/plain": [
       "(array([      6,       7,       8, ..., 1370522, 1370523, 1370524]),)"
      ]
     },
     "execution_count": 44,
     "metadata": {},
     "output_type": "execute_result"
    }
   ],
   "source": [
    "np.where(np.invert((r['time'] + r['length'] * r['dt'])[:-1] <= r['time'][1:]))"
   ]
  },
  {
   "cell_type": "code",
   "execution_count": 48,
   "metadata": {
    "collapsed": false
   },
   "outputs": [],
   "source": [
    "time_to_next_pulse = (r['time'][1:] - (r['time'] + r['length'] * r['dt'])[:-1])"
   ]
  },
  {
   "cell_type": "code",
   "execution_count": 50,
   "metadata": {
    "collapsed": false
   },
   "outputs": [
    {
     "data": {
      "text/plain": [
       "array([   40,    40,     0,    20,    40,    20,  -320,  -460,  -320,\n",
       "        -480,    20,  -440,  -340,  -440,  -620,  -200,  -320,  -460,\n",
       "        -320,  -460,  -544,  -276,  -804,  -736,  -100,  -184,  -796,\n",
       "        -640,  -400,  -804,  -236,  -544,  -696,  -400,  -144,  -716,\n",
       "        -600,  -160,  -784,  -576,  -498,  -786,  -816,  -840,  -298,\n",
       "        -786,  -576,  -400,  -380,  -778,  -786,  -576,  -340,  -758,\n",
       "        -566,  -676,  -498,  -722,  -484,  -616,  -498,  -802,  -544,\n",
       "        -334,  -702,  -544,   -94,  -702,  -804,  -114,  -702, -1084,\n",
       "        -468,  -592,  -934,  -742,  -332,    40,  -688,  -724,    26,\n",
       "        -106,  -694,  -854,  -548,  -544,  -728,  -466,    20,  -502,\n",
       "        -572,  -252, -1054,  -554,  -968,  -378,  -766,    20,  -736,\n",
       "        -612])"
      ]
     },
     "execution_count": 50,
     "metadata": {},
     "output_type": "execute_result"
    }
   ],
   "source": [
    "time_to_next_pulse[:100]"
   ]
  },
  {
   "cell_type": "code",
   "execution_count": 52,
   "metadata": {
    "collapsed": false
   },
   "outputs": [],
   "source": [
    "r2 = strax.sort_by_time(r)"
   ]
  },
  {
   "cell_type": "code",
   "execution_count": 53,
   "metadata": {
    "collapsed": true
   },
   "outputs": [],
   "source": [
    "time_to_next_pulse2 = (r2['time'][1:] - (r2['time'] + r2['length'] * r2['dt'])[:-1])"
   ]
  },
  {
   "cell_type": "code",
   "execution_count": 57,
   "metadata": {
    "collapsed": false
   },
   "outputs": [
    {
     "data": {
      "text/plain": [
       "array([ 860,  880, 1100,   80,  640,  840,  620,  360,  500,  340,  480,\n",
       "         40,  480,  380,  480,  620,  240,  360,  500,  360,  276,  224,\n",
       "        296,   44,  760,   16,  104,  120,  680,   16,  424,  276,  144,\n",
       "        420,  316,  104,   60,  640,   36,  164,  362,  254,   24,  260,\n",
       "        542,   54,  244,   20,  440,  122,   34,  264,  500,   42,   74,\n",
       "        264,  342,   98,  256,  184,  322,   18,  316,  506,   78,  276,\n",
       "        466,  118,   16,  726,  118,   16,   52,  508,  166,  358,   68,\n",
       "        220,  152,  136,  166,   14,  146,  246,  192,  296,  272,   94,\n",
       "        140,   58,  288,  188,   46,  246,  132,  462,  214,  160,   24,\n",
       "        108])"
      ]
     },
     "execution_count": 57,
     "metadata": {},
     "output_type": "execute_result"
    }
   ],
   "source": [
    "np.diff(r2['time'])[:100]"
   ]
  },
  {
   "cell_type": "code",
   "execution_count": null,
   "metadata": {
    "collapsed": true
   },
   "outputs": [],
   "source": [
    "# NOTE this should be at least "
   ]
  },
  {
   "cell_type": "code",
   "execution_count": null,
   "metadata": {
    "collapsed": true
   },
   "outputs": [],
   "source": []
  },
  {
   "cell_type": "code",
   "execution_count": 46,
   "metadata": {
    "collapsed": false
   },
   "outputs": [
    {
     "data": {
      "text/plain": [
       "array([ 5086,  5946,  6826,  7926,  8006,  8646,  9486, 10106, 10466,\n",
       "       10966])"
      ]
     },
     "execution_count": 46,
     "metadata": {},
     "output_type": "execute_result"
    }
   ],
   "source": [
    "r['time'][:10]"
   ]
  },
  {
   "cell_type": "code",
   "execution_count": 34,
   "metadata": {
    "collapsed": false
   },
   "outputs": [
    {
     "data": {
      "text/html": [
       "<div>\n",
       "<style scoped>\n",
       "    .dataframe tbody tr th:only-of-type {\n",
       "        vertical-align: middle;\n",
       "    }\n",
       "\n",
       "    .dataframe tbody tr th {\n",
       "        vertical-align: top;\n",
       "    }\n",
       "\n",
       "    .dataframe thead th {\n",
       "        text-align: right;\n",
       "    }\n",
       "</style>\n",
       "<table border=\"1\" class=\"dataframe\">\n",
       "  <thead>\n",
       "    <tr style=\"text-align: right;\">\n",
       "      <th></th>\n",
       "      <th>Field name</th>\n",
       "      <th>Data type</th>\n",
       "      <th>Comment</th>\n",
       "    </tr>\n",
       "  </thead>\n",
       "  <tbody>\n",
       "    <tr>\n",
       "      <th>0</th>\n",
       "      <td>channel</td>\n",
       "      <td>int16</td>\n",
       "      <td>Channel/PMT number</td>\n",
       "    </tr>\n",
       "    <tr>\n",
       "      <th>1</th>\n",
       "      <td>dt</td>\n",
       "      <td>int16</td>\n",
       "      <td>Time resolution in ns</td>\n",
       "    </tr>\n",
       "    <tr>\n",
       "      <th>2</th>\n",
       "      <td>time</td>\n",
       "      <td>int64</td>\n",
       "      <td>Start time of the interval (ns since unix epoch)</td>\n",
       "    </tr>\n",
       "    <tr>\n",
       "      <th>3</th>\n",
       "      <td>length</td>\n",
       "      <td>int32</td>\n",
       "      <td>Length of the interval in samples</td>\n",
       "    </tr>\n",
       "    <tr>\n",
       "      <th>4</th>\n",
       "      <td>area</td>\n",
       "      <td>int32</td>\n",
       "      <td>Integral in ADC x samples</td>\n",
       "    </tr>\n",
       "    <tr>\n",
       "      <th>5</th>\n",
       "      <td>pulse_length</td>\n",
       "      <td>int32</td>\n",
       "      <td>Length of pulse to which the record belongs (w...</td>\n",
       "    </tr>\n",
       "    <tr>\n",
       "      <th>6</th>\n",
       "      <td>record_i</td>\n",
       "      <td>int16</td>\n",
       "      <td>Fragment number in the pulse</td>\n",
       "    </tr>\n",
       "    <tr>\n",
       "      <th>7</th>\n",
       "      <td>baseline</td>\n",
       "      <td>float32</td>\n",
       "      <td>Baseline in ADC counts. data = int(baseline) -...</td>\n",
       "    </tr>\n",
       "    <tr>\n",
       "      <th>8</th>\n",
       "      <td>reduction_level</td>\n",
       "      <td>uint8</td>\n",
       "      <td>Level of data reduction applied (strax.Reducti...</td>\n",
       "    </tr>\n",
       "    <tr>\n",
       "      <th>9</th>\n",
       "      <td>data</td>\n",
       "      <td>('&lt;i2', (110,))</td>\n",
       "      <td>Waveform data in ADC counts above baseline</td>\n",
       "    </tr>\n",
       "  </tbody>\n",
       "</table>\n",
       "</div>"
      ],
      "text/plain": [
       "        Field name        Data type  \\\n",
       "0          channel            int16   \n",
       "1               dt            int16   \n",
       "2             time            int64   \n",
       "3           length            int32   \n",
       "4             area            int32   \n",
       "5     pulse_length            int32   \n",
       "6         record_i            int16   \n",
       "7         baseline          float32   \n",
       "8  reduction_level            uint8   \n",
       "9             data  ('<i2', (110,))   \n",
       "\n",
       "                                             Comment  \n",
       "0                                 Channel/PMT number  \n",
       "1                              Time resolution in ns  \n",
       "2   Start time of the interval (ns since unix epoch)  \n",
       "3                  Length of the interval in samples  \n",
       "4                          Integral in ADC x samples  \n",
       "5  Length of pulse to which the record belongs (w...  \n",
       "6                       Fragment number in the pulse  \n",
       "7  Baseline in ADC counts. data = int(baseline) -...  \n",
       "8  Level of data reduction applied (strax.Reducti...  \n",
       "9         Waveform data in ADC counts above baseline  "
      ]
     },
     "execution_count": 34,
     "metadata": {},
     "output_type": "execute_result"
    }
   ],
   "source": [
    "st.data_info('records')"
   ]
  },
  {
   "cell_type": "code",
   "execution_count": 33,
   "metadata": {
    "collapsed": false
   },
   "outputs": [
    {
     "data": {
      "text/plain": [
       "array([(8, 10,      8006, 60, -44, 60, 0, -8362.275, 0, [-3, -2, -1, -2,  4, 10, 15,  9,  5,  0,  1,  0, -2, -2, -3, -1,  2, 11,  8,  3,  3,  2, -1, -1, -1, -2,  0,  1,  0, -3, -4, -1, -6, -5, -5, -1, -5, -4, -4, -4, -4, -3, -4, -4, -3, -1, -3, -2, -2, -1, -1, -4, -1, -2, -6, -4, -3, -1, -1, -5,  0,  0,  0,  0,  0,  0,  0,  0,  0,  0,  0,  0,  0,  0,  0,  0,  0,  0,  0,  0,  0,  0,  0,  0,  0,  0,  0,  0,  0,  0,  0,  0,  0,  0,  0,  0,  0,  0,  0,  0,  0,  0,  0,  0,  0,  0,  0,  0,  0,  0]),\n",
       "       (8, 10,     11786, 48,  -9, 48, 0, -8360.05 , 0, [ 2, -2, -3, -2, -2, -2, 10,  9,  6,  6,  2,  3,  1, -1,  1,  0,  0, -2,  0,  2, -1, -2, -3, -1, -2, -1, -2,  1,  1,  1, -1, -2, -3, -2, -2, -3, -2, -1,  0, -1,  0,  0, -2,  0, -2,  0, -4, -3,  0,  0,  0,  0,  0,  0,  0,  0,  0,  0,  0,  0,  0,  0,  0,  0,  0,  0,  0,  0,  0,  0,  0,  0,  0,  0,  0,  0,  0,  0,  0,  0,  0,  0,  0,  0,  0,  0,  0,  0,  0,  0,  0,  0,  0,  0,  0,  0,  0,  0,  0,  0,  0,  0,  0,  0,  0,  0,  0,  0,  0,  0]),\n",
       "       (8, 10,     16042, 78, -16, 78, 0, -8360.125, 0, [ 0, -1,  0, -2, -1, -1,  0, -2, -2,  0, -2, -2, -2,  0, -3, -2, -3, -2, -2,  1, -3,  0,  1,  1, -1, -2,  1,  0, -1, -1, -3,  1,  0,  0,  0,  7, 13,  8,  6,  4,  4,  2,  0,  1, -2,  0, -1, -1,  0,  1, -4, -3, -4, -1, -1,  0, -2, -1,  2, -1, -1, -2,  0,  2,  0, -1, -1, -1,  0, -3, -3,  0, -1, -1,  1, -1,  1,  1,  0,  0,  0,  0,  0,  0,  0,  0,  0,  0,  0,  0,  0,  0,  0,  0,  0,  0,  0,  0,  0,  0,  0,  0,  0,  0,  0,  0,  0,  0,  0,  0]),\n",
       "       ...,\n",
       "       (8, 10, 775213182, 62, -33, 62, 0, -8361.325, 0, [-4, -3, -1, -2, -3, -2,  0, -2,  0, -1, -1, -3, -3,  8,  8,  4,  2,  0,  6, 12,  9,  6,  2,  0, -1,  2,  0, -1, -1, -2, -1,  0, -2, -3, -1, -1, -3, -1, -3, -1, -1, -2, -1,  1, -1, -1, -4, -3, -1, -2, -3, -3, -2, -4, -6, -3, -1, -4, -2,  0, -2, -1,  0,  0,  0,  0,  0,  0,  0,  0,  0,  0,  0,  0,  0,  0,  0,  0,  0,  0,  0,  0,  0,  0,  0,  0,  0,  0,  0,  0,  0,  0,  0,  0,  0,  0,  0,  0,  0,  0,  0,  0,  0,  0,  0,  0,  0,  0,  0,  0]),\n",
       "       (8, 10, 775216162, 56, -10, 56, 0, -8360.5  , 0, [-1, -3, -2, -2,  1, -3, -2,  0, -1,  0, -2,  2, -3,  7, 16, 12,  7,  4,  4,  2,  1,  0, -2,  1, -1, -1,  1,  0, -2,  0, -2, -3, -2,  0, -3, -1,  0, -1, -1,  0, -1, -2, -1,  0,  0, -1, -1, -1, -3, -3, -4, -2, -4, -2, -1, -4,  0,  0,  0,  0,  0,  0,  0,  0,  0,  0,  0,  0,  0,  0,  0,  0,  0,  0,  0,  0,  0,  0,  0,  0,  0,  0,  0,  0,  0,  0,  0,  0,  0,  0,  0,  0,  0,  0,  0,  0,  0,  0,  0,  0,  0,  0,  0,  0,  0,  0,  0,  0,  0,  0]),\n",
       "       (8, 10, 775221562, 60, -31, 60, 0, -8360.075, 0, [-1, -2, -1,  0, -3, -2, -2, -1, -4, -2, -2,  0,  1, -1,  0, -2,  1, 13, 14,  8,  6,  4,  2,  2,  0, -2,  0, -3, -1, -2, -1, -3, -2, -1, -1,  0, -1, -2, -2, -4, -3, -1,  0, -3, -4, -4, -1,  0, -1,  0,  0, -3, -3, -2, -1, -1, -2, -1, -1, -3,  0,  0,  0,  0,  0,  0,  0,  0,  0,  0,  0,  0,  0,  0,  0,  0,  0,  0,  0,  0,  0,  0,  0,  0,  0,  0,  0,  0,  0,  0,  0,  0,  0,  0,  0,  0,  0,  0,  0,  0,  0,  0,  0,  0,  0,  0,  0,  0,  0,  0])],\n",
       "      dtype=[(('Channel/PMT number', 'channel'), '<i2'), (('Time resolution in ns', 'dt'), '<i2'), (('Start time of the interval (ns since unix epoch)', 'time'), '<i8'), (('Length of the interval in samples', 'length'), '<i4'), (('Integral in ADC x samples', 'area'), '<i4'), (('Length of pulse to which the record belongs (without zero-padding)', 'pulse_length'), '<i4'), (('Fragment number in the pulse', 'record_i'), '<i2'), (('Baseline in ADC counts. data = int(baseline) - data_orig', 'baseline'), '<f4'), (('Level of data reduction applied (strax.ReductionLevel enum)', 'reduction_level'), 'u1'), (('Waveform data in ADC counts above baseline', 'data'), '<i2', (110,))])"
      ]
     },
     "execution_count": 33,
     "metadata": {},
     "output_type": "execute_result"
    }
   ],
   "source": [
    "r[r['area'] < 0]"
   ]
  },
  {
   "cell_type": "code",
   "execution_count": null,
   "metadata": {
    "collapsed": true
   },
   "outputs": [],
   "source": []
  },
  {
   "cell_type": "code",
   "execution_count": null,
   "metadata": {
    "collapsed": true
   },
   "outputs": [],
   "source": []
  },
  {
   "cell_type": "code",
   "execution_count": 9,
   "metadata": {
    "collapsed": false
   },
   "outputs": [],
   "source": [
    "r  = st.get_array(run_id, 'records')"
   ]
  },
  {
   "cell_type": "code",
   "execution_count": 17,
   "metadata": {
    "collapsed": false
   },
   "outputs": [
    {
     "data": {
      "text/html": [
       "<div>\n",
       "<style scoped>\n",
       "    .dataframe tbody tr th:only-of-type {\n",
       "        vertical-align: middle;\n",
       "    }\n",
       "\n",
       "    .dataframe tbody tr th {\n",
       "        vertical-align: top;\n",
       "    }\n",
       "\n",
       "    .dataframe thead th {\n",
       "        text-align: right;\n",
       "    }\n",
       "</style>\n",
       "<table border=\"1\" class=\"dataframe\">\n",
       "  <thead>\n",
       "    <tr style=\"text-align: right;\">\n",
       "      <th></th>\n",
       "      <th>Field name</th>\n",
       "      <th>Data type</th>\n",
       "      <th>Comment</th>\n",
       "    </tr>\n",
       "  </thead>\n",
       "  <tbody>\n",
       "    <tr>\n",
       "      <th>0</th>\n",
       "      <td>channel</td>\n",
       "      <td>int16</td>\n",
       "      <td>Channel/PMT number</td>\n",
       "    </tr>\n",
       "    <tr>\n",
       "      <th>1</th>\n",
       "      <td>dt</td>\n",
       "      <td>int16</td>\n",
       "      <td>Time resolution in ns</td>\n",
       "    </tr>\n",
       "    <tr>\n",
       "      <th>2</th>\n",
       "      <td>time</td>\n",
       "      <td>int64</td>\n",
       "      <td>Start time of the interval (ns since unix epoch)</td>\n",
       "    </tr>\n",
       "    <tr>\n",
       "      <th>3</th>\n",
       "      <td>length</td>\n",
       "      <td>int32</td>\n",
       "      <td>Length of the interval in samples</td>\n",
       "    </tr>\n",
       "    <tr>\n",
       "      <th>4</th>\n",
       "      <td>area</td>\n",
       "      <td>int32</td>\n",
       "      <td>Integral in ADC x samples</td>\n",
       "    </tr>\n",
       "    <tr>\n",
       "      <th>5</th>\n",
       "      <td>pulse_length</td>\n",
       "      <td>int32</td>\n",
       "      <td>Length of pulse to which the record belongs (w...</td>\n",
       "    </tr>\n",
       "    <tr>\n",
       "      <th>6</th>\n",
       "      <td>record_i</td>\n",
       "      <td>int16</td>\n",
       "      <td>Fragment number in the pulse</td>\n",
       "    </tr>\n",
       "    <tr>\n",
       "      <th>7</th>\n",
       "      <td>baseline</td>\n",
       "      <td>float32</td>\n",
       "      <td>Baseline in ADC counts. data = int(baseline) -...</td>\n",
       "    </tr>\n",
       "    <tr>\n",
       "      <th>8</th>\n",
       "      <td>reduction_level</td>\n",
       "      <td>uint8</td>\n",
       "      <td>Level of data reduction applied (strax.Reducti...</td>\n",
       "    </tr>\n",
       "    <tr>\n",
       "      <th>9</th>\n",
       "      <td>data</td>\n",
       "      <td>('&lt;i2', (110,))</td>\n",
       "      <td>Waveform data in ADC counts above baseline</td>\n",
       "    </tr>\n",
       "  </tbody>\n",
       "</table>\n",
       "</div>"
      ],
      "text/plain": [
       "        Field name        Data type  \\\n",
       "0          channel            int16   \n",
       "1               dt            int16   \n",
       "2             time            int64   \n",
       "3           length            int32   \n",
       "4             area            int32   \n",
       "5     pulse_length            int32   \n",
       "6         record_i            int16   \n",
       "7         baseline          float32   \n",
       "8  reduction_level            uint8   \n",
       "9             data  ('<i2', (110,))   \n",
       "\n",
       "                                             Comment  \n",
       "0                                 Channel/PMT number  \n",
       "1                              Time resolution in ns  \n",
       "2   Start time of the interval (ns since unix epoch)  \n",
       "3                  Length of the interval in samples  \n",
       "4                          Integral in ADC x samples  \n",
       "5  Length of pulse to which the record belongs (w...  \n",
       "6                       Fragment number in the pulse  \n",
       "7  Baseline in ADC counts. data = int(baseline) -...  \n",
       "8  Level of data reduction applied (strax.Reducti...  \n",
       "9         Waveform data in ADC counts above baseline  "
      ]
     },
     "execution_count": 17,
     "metadata": {},
     "output_type": "execute_result"
    }
   ],
   "source": [
    "st.data_info('records')"
   ]
  },
  {
   "cell_type": "code",
   "execution_count": 30,
   "metadata": {
    "collapsed": false
   },
   "outputs": [
    {
     "data": {
      "text/plain": [
       "array([(8, 10,      5086,  82,  61,  82, 0, -8359.1  , 0, [ 0,  1,  0,  2,  2,  2,  3,  1,  0, -2, -1,  0, -1,  0,  2,  1, -1,  2,  1, -2, -1, -2, -2, -1,  0, -2, -2,  2,  0,  0, -1,  1, -2,  0, -1,  2,  2,  2,  0, -1, 11, 13,  9,  8,  4,  2,  3,  1,  2,  1,  0,  1, -1,  1,  1,  1, -1, -1,  0,  2,  3, -2,  0, -2, -1, -2,  3,  2,  1,  1,  0, -2, -2, -1,  1,  0,  2, -1,  0,  2, -1, -1,  0,  0,  0,  0,  0,  0,  0,  0,  0,  0,  0,  0,  0,  0,  0,  0,  0,  0,  0,  0,  0,  0,  0,  0,  0,  0,  0,  0]),\n",
       "       (8, 10,      5946,  84, 113,  84, 0, -8358.575, 0, [ 1,  0, -1,  0,  0,  0,  0,  2, -1,  2,  3,  1, -2, -1,  0,  2,  0, -1,  0,  0, -2,  2,  2,  0, -3,  0,  0,  2,  1,  4,  2,  0,  2,  3,  1,  1,  1, -1,  0,  3,  6, 17, 14, 11,  2,  3,  1,  3,  2,  3,  3,  0,  2,  3,  3,  0,  1,  2,  0,  1,  2,  0,  0,  1,  0,  0, -1,  3,  3,  2,  0, -1,  1, -1, -1,  0,  1,  0,  2,  1,  1, -1,  1,  0,  0,  0,  0,  0,  0,  0,  0,  0,  0,  0,  0,  0,  0,  0,  0,  0,  0,  0,  0,  0,  0,  0,  0,  0,  0,  0]),\n",
       "       (8, 10,      6826, 110, 170, 116, 0, -8359.225, 0, [ 2,  1,  0,  1,  0,  1, -1, -1, -1, -1,  1,  1, -1,  0,  1,  1, -1, -1,  0, -3, -3,  0,  1,  1,  1,  0,  3,  3,  0,  2, -2,  1, -1, -1,  1,  3, -1,  0,  0,  2, 21, 24, 16, 12,  8,  6,  2,  1,  2,  1,  1,  0,  0,  1,  0,  0,  0, -1, -2, -2,  0,  2, -1,  0,  1,  0,  1,  1, -1,  1,  1,  0,  0,  2,  1, 11, 10,  9,  5,  2,  0,  2,  2, -1,  2,  2,  1,  1,  2,  1, -1,  1,  1,  1,  3,  0,  1,  0,  0,  2,  4,  1,  0, -3, -2, -1,  2,  1,  2,  2]),\n",
       "       ...,\n",
       "       (8, 10, 775221562,  60, -31,  60, 0, -8360.075, 0, [-1, -2, -1,  0, -3, -2, -2, -1, -4, -2, -2,  0,  1, -1,  0, -2,  1, 13, 14,  8,  6,  4,  2,  2,  0, -2,  0, -3, -1, -2, -1, -3, -2, -1, -1,  0, -1, -2, -2, -4, -3, -1,  0, -3, -4, -4, -1,  0, -1,  0,  0, -3, -3, -2, -1, -1, -2, -1, -1, -3,  0,  0,  0,  0,  0,  0,  0,  0,  0,  0,  0,  0,  0,  0,  0,  0,  0,  0,  0,  0,  0,  0,  0,  0,  0,  0,  0,  0,  0,  0,  0,  0,  0,  0,  0,  0,  0,  0,  0,  0,  0,  0,  0,  0,  0,  0,  0,  0,  0,  0]),\n",
       "       (8, 10, 775222202,  86, 260,  86, 0, -8358.9  , 0, [ 3, -1,  0,  0, -1,  4,  0,  3, -1,  3,  0, -2, -1,  1,  1, -1,  1,  3,  1,  3,  0,  2, -1,  0,  0,  2,  1,  1,  1,  0,  4,  3,  1,  4,  0, -1, -2,  1,  2,  2, 12, 26, 25, 24, 16, 13,  7,  8,  3,  0,  2,  3,  2,  2,  4,  2, 11, 11,  8,  7,  4,  3,  6,  2,  1,  0,  2,  0,  2,  1,  0, -2,  0,  1,  3,  1,  3,  2,  1, -3,  3,  3,  4,  0, -1,  2,  0,  0,  0,  0,  0,  0,  0,  0,  0,  0,  0,  0,  0,  0,  0,  0,  0,  0,  0,  0,  0,  0,  0,  0]),\n",
       "       (8, 10, 775223102,  86, 154,  86, 0, -8359.775, 0, [ 2,  2,  0, -1,  1,  0, 10,  9,  9,  6,  6,  2,  0, -1,  1, -1,  0,  1,  0, -2, -2, -1,  0, -3, -1,  0,  0,  1,  0, -1, -1, -1, -3,  1, -2,  0,  2,  1, -1, -2,  0, 25, 24, 17, 12, 11,  6,  5,  4,  3,  4,  3,  4,  0, -1,  2,  1,  1, -1, -1, -2, -1,  1,  1,  2,  1,  1,  0, -1,  2,  0, -4, -2,  0, -1,  1, -2,  1,  2,  0,  1,  0,  2,  0,  3, -1,  0,  0,  0,  0,  0,  0,  0,  0,  0,  0,  0,  0,  0,  0,  0,  0,  0,  0,  0,  0,  0,  0,  0,  0])],\n",
       "      dtype=[(('Channel/PMT number', 'channel'), '<i2'), (('Time resolution in ns', 'dt'), '<i2'), (('Start time of the interval (ns since unix epoch)', 'time'), '<i8'), (('Length of the interval in samples', 'length'), '<i4'), (('Integral in ADC x samples', 'area'), '<i4'), (('Length of pulse to which the record belongs (without zero-padding)', 'pulse_length'), '<i4'), (('Fragment number in the pulse', 'record_i'), '<i2'), (('Baseline in ADC counts. data = int(baseline) - data_orig', 'baseline'), '<f4'), (('Level of data reduction applied (strax.ReductionLevel enum)', 'reduction_level'), 'u1'), (('Waveform data in ADC counts above baseline', 'data'), '<i2', (110,))])"
      ]
     },
     "execution_count": 30,
     "metadata": {},
     "output_type": "execute_result"
    }
   ],
   "source": [
    "r"
   ]
  },
  {
   "cell_type": "code",
   "execution_count": null,
   "metadata": {
    "collapsed": true
   },
   "outputs": [],
   "source": []
  },
  {
   "cell_type": "code",
   "execution_count": 22,
   "metadata": {
    "collapsed": false
   },
   "outputs": [
    {
     "data": {
      "text/plain": [
       "array([     5086,      5946,      6826, ..., 775221562, 775222202,\n",
       "       775223102])"
      ]
     },
     "execution_count": 22,
     "metadata": {},
     "output_type": "execute_result"
    }
   ],
   "source": []
  },
  {
   "cell_type": "code",
   "execution_count": 16,
   "metadata": {
    "collapsed": false
   },
   "outputs": [
    {
     "data": {
      "text/plain": [
       "[<matplotlib.lines.Line2D at 0x7f4244ab4cf8>]"
      ]
     },
     "execution_count": 16,
     "metadata": {},
     "output_type": "execute_result"
    },
    {
     "data": {
      "image/png": "[encoded data removed]",
      "text/plain": [
       "<Figure size 432x288 with 1 Axes>"
      ]
     },
     "metadata": {
      "needs_background": "light"
     },
     "output_type": "display_data"
    }
   ],
   "source": [
    "plt.plot(r['time'], marker='.')"
   ]
  },
  {
   "cell_type": "code",
   "execution_count": 18,
   "metadata": {
    "collapsed": false
   },
   "outputs": [
    {
     "data": {
      "text/plain": [
       "(8, 10, 5086, 82, 61, 82, 0, -8359.1, 0, [ 0,  1,  0,  2,  2,  2,  3,  1,  0, -2, -1,  0, -1,  0,  2,  1, -1,  2,  1, -2, -1, -2, -2, -1,  0, -2, -2,  2,  0,  0, -1,  1, -2,  0, -1,  2,  2,  2,  0, -1, 11, 13,  9,  8,  4,  2,  3,  1,  2,  1,  0,  1, -1,  1,  1,  1, -1, -1,  0,  2,  3, -2,  0, -2, -1, -2,  3,  2,  1,  1,  0, -2, -2, -1,  1,  0,  2, -1,  0,  2, -1, -1,  0,  0,  0,  0,  0,  0,  0,  0,  0,  0,  0,  0,  0,  0,  0,  0,  0,  0,  0,  0,  0,  0,  0,  0,  0,  0,  0,  0])"
      ]
     },
     "execution_count": 18,
     "metadata": {},
     "output_type": "execute_result"
    }
   ],
   "source": [
    "r[0]"
   ]
  },
  {
   "cell_type": "code",
   "execution_count": null,
   "metadata": {
    "collapsed": true
   },
   "outputs": [],
   "source": []
  },
  {
   "cell_type": "code",
   "execution_count": 6,
   "metadata": {
    "collapsed": false
   },
   "outputs": [
    {
     "name": "stdout",
     "output_type": "stream",
     "text": [
      "[ True  True  True ...  True  True  True]\n",
      "20\n",
      "[ True  True  True ...  True  True  True]\n",
      "20\n",
      "[ True  True  True ...  True  True  True]\n",
      "20\n",
      "[ True  True  True ...  True  True  True]\n",
      "20\n",
      "[ True  True  True ...  True  True  True]\n",
      "20\n",
      "[ True  True  True ...  True  True  True]\n",
      "20\n",
      "[ True  True  True ...  True  True  True]\n",
      "20\n",
      "[ True  True  True ...  True  True  True]\n",
      "20\n",
      "[ True  True  True ...  True  True  True]\n",
      "20\n",
      "[ True  True  True ...  True  True  True]\n",
      "20\n",
      "[ True  True  True ...  True  True  True]\n",
      "20\n",
      "[ True  True  True ...  True  True  True]\n",
      "20\n",
      "[ True  True  True ...  True  True  True]\n",
      "20\n",
      "[ True  True  True ...  True  True  True]\n",
      "20\n",
      "[ True  True  True ...  True  True  True]\n",
      "20\n",
      "[ True  True  True ...  True  True  True]\n",
      "20\n",
      "[ True  True  True ...  True  True  True]\n",
      "20\n",
      "[ True  True  True ...  True  True  True]\n",
      "20\n",
      "[ True  True  True ...  True  True  True]\n",
      "20\n",
      "[ True  True  True ...  True  True  True]\n",
      "20\n",
      "[ True  True  True ...  True  True  True]\n",
      "20\n",
      "[ True  True  True ...  True  True  True]\n",
      "20\n",
      "[ True  True  True ...  True  True  True]\n",
      "20\n",
      "[ True  True  True ...  True  True  True]\n",
      "20\n",
      "[ True  True  True ...  True  True  True]\n",
      "20\n",
      "[ True  True  True ...  True  True  True]\n",
      "20\n",
      "[ True  True  True ...  True  True  True]\n",
      "20\n",
      "[ True  True  True ...  True  True  True]\n",
      "20\n",
      "[ True  True  True ...  True  True  True]\n",
      "20\n",
      "[ True  True  True ...  True  True  True]\n",
      "20\n",
      "[ True  True  True ...  True  True  True]\n",
      "20\n",
      "[ True  True  True ...  True  True  True]\n",
      "20\n",
      "[ True  True  True ...  True  True  True]\n",
      "20\n",
      "[ True  True  True ...  True  True  True]\n",
      "20\n",
      "[ True  True  True ...  True  True  True]\n",
      "20\n",
      "[ True  True  True ...  True  True  True]\n",
      "20\n",
      "[ True  True  True ...  True  True  True]\n",
      "20\n",
      "[ True  True  True ...  True  True  True]\n",
      "20\n",
      "[ True  True  True ...  True  True  True]\n",
      "20\n",
      "[ True  True  True ...  True  True  True]\n",
      "20\n",
      "[ True  True  True ...  True  True  True]\n",
      "20\n",
      "[ True  True  True ...  True  True  True]\n",
      "20\n",
      "[ True  True  True ...  True  True  True]\n",
      "20\n",
      "[ True  True  True ...  True  True  True]\n",
      "20\n",
      "[ True  True  True ...  True  True  True]\n",
      "20\n",
      "[ True  True  True ...  True  True  True]\n",
      "20\n",
      "[ True  True  True ...  True  True  True]\n",
      "20\n",
      "[ True  True  True ...  True  True  True]\n",
      "20\n",
      "[ True  True  True ...  True  True  True]\n",
      "20\n",
      "[ True  True  True ...  True  True  True]\n",
      "20\n",
      "[ True  True  True ...  True  True  True]\n",
      "20\n",
      "[ True  True  True ...  True  True  True]\n",
      "20\n"
     ]
    }
   ],
   "source": [
    "st.make(run_id, 'records', config=dict(software_zle_channels = [8], extension=20))"
   ]
  },
  {
   "cell_type": "code",
   "execution_count": 7,
   "metadata": {
    "collapsed": true
   },
   "outputs": [],
   "source": [
    "bla = st.get_array(run_id, 'records')"
   ]
  },
  {
   "cell_type": "code",
   "execution_count": 8,
   "metadata": {
    "collapsed": false
   },
   "outputs": [
    {
     "data": {
      "text/plain": [
       "array([(8, 10,      5086,  82,  61,  82, 0, -8359.1  , 0, [ 0,  1,  0,  2,  2,  2,  3,  1,  0, -2, -1,  0, -1,  0,  2,  1, -1,  2,  1, -2, -1, -2, -2, -1,  0, -2, -2,  2,  0,  0, -1,  1, -2,  0, -1,  2,  2,  2,  0, -1, 11, 13,  9,  8,  4,  2,  3,  1,  2,  1,  0,  1, -1,  1,  1,  1, -1, -1,  0,  2,  3, -2,  0, -2, -1, -2,  3,  2,  1,  1,  0, -2, -2, -1,  1,  0,  2, -1,  0,  2, -1, -1,  0,  0,  0,  0,  0,  0,  0,  0,  0,  0,  0,  0,  0,  0,  0,  0,  0,  0,  0,  0,  0,  0,  0,  0,  0,  0,  0,  0]),\n",
       "       (8, 10,      5946,  84, 113,  84, 0, -8358.575, 0, [ 1,  0, -1,  0,  0,  0,  0,  2, -1,  2,  3,  1, -2, -1,  0,  2,  0, -1,  0,  0, -2,  2,  2,  0, -3,  0,  0,  2,  1,  4,  2,  0,  2,  3,  1,  1,  1, -1,  0,  3,  6, 17, 14, 11,  2,  3,  1,  3,  2,  3,  3,  0,  2,  3,  3,  0,  1,  2,  0,  1,  2,  0,  0,  1,  0,  0, -1,  3,  3,  2,  0, -1,  1, -1, -1,  0,  1,  0,  2,  1,  1, -1,  1,  0,  0,  0,  0,  0,  0,  0,  0,  0,  0,  0,  0,  0,  0,  0,  0,  0,  0,  0,  0,  0,  0,  0,  0,  0,  0,  0]),\n",
       "       (8, 10,      6826, 110, 170, 116, 0, -8359.225, 0, [ 2,  1,  0,  1,  0,  1, -1, -1, -1, -1,  1,  1, -1,  0,  1,  1, -1, -1,  0, -3, -3,  0,  1,  1,  1,  0,  3,  3,  0,  2, -2,  1, -1, -1,  1,  3, -1,  0,  0,  2, 21, 24, 16, 12,  8,  6,  2,  1,  2,  1,  1,  0,  0,  1,  0,  0,  0, -1, -2, -2,  0,  2, -1,  0,  1,  0,  1,  1, -1,  1,  1,  0,  0,  2,  1, 11, 10,  9,  5,  2,  0,  2,  2, -1,  2,  2,  1,  1,  2,  1, -1,  1,  1,  1,  3,  0,  1,  0,  0,  2,  4,  1,  0, -3, -2, -1,  2,  1,  2,  2]),\n",
       "       ...,\n",
       "       (8, 10, 775221562,  60, -31,  60, 0, -8360.075, 0, [-1, -2, -1,  0, -3, -2, -2, -1, -4, -2, -2,  0,  1, -1,  0, -2,  1, 13, 14,  8,  6,  4,  2,  2,  0, -2,  0, -3, -1, -2, -1, -3, -2, -1, -1,  0, -1, -2, -2, -4, -3, -1,  0, -3, -4, -4, -1,  0, -1,  0,  0, -3, -3, -2, -1, -1, -2, -1, -1, -3,  0,  0,  0,  0,  0,  0,  0,  0,  0,  0,  0,  0,  0,  0,  0,  0,  0,  0,  0,  0,  0,  0,  0,  0,  0,  0,  0,  0,  0,  0,  0,  0,  0,  0,  0,  0,  0,  0,  0,  0,  0,  0,  0,  0,  0,  0,  0,  0,  0,  0]),\n",
       "       (8, 10, 775222202,  86, 260,  86, 0, -8358.9  , 0, [ 3, -1,  0,  0, -1,  4,  0,  3, -1,  3,  0, -2, -1,  1,  1, -1,  1,  3,  1,  3,  0,  2, -1,  0,  0,  2,  1,  1,  1,  0,  4,  3,  1,  4,  0, -1, -2,  1,  2,  2, 12, 26, 25, 24, 16, 13,  7,  8,  3,  0,  2,  3,  2,  2,  4,  2, 11, 11,  8,  7,  4,  3,  6,  2,  1,  0,  2,  0,  2,  1,  0, -2,  0,  1,  3,  1,  3,  2,  1, -3,  3,  3,  4,  0, -1,  2,  0,  0,  0,  0,  0,  0,  0,  0,  0,  0,  0,  0,  0,  0,  0,  0,  0,  0,  0,  0,  0,  0,  0,  0]),\n",
       "       (8, 10, 775223102,  86, 154,  86, 0, -8359.775, 0, [ 2,  2,  0, -1,  1,  0, 10,  9,  9,  6,  6,  2,  0, -1,  1, -1,  0,  1,  0, -2, -2, -1,  0, -3, -1,  0,  0,  1,  0, -1, -1, -1, -3,  1, -2,  0,  2,  1, -1, -2,  0, 25, 24, 17, 12, 11,  6,  5,  4,  3,  4,  3,  4,  0, -1,  2,  1,  1, -1, -1, -2, -1,  1,  1,  2,  1,  1,  0, -1,  2,  0, -4, -2,  0, -1,  1, -2,  1,  2,  0,  1,  0,  2,  0,  3, -1,  0,  0,  0,  0,  0,  0,  0,  0,  0,  0,  0,  0,  0,  0,  0,  0,  0,  0,  0,  0,  0,  0,  0,  0])],\n",
       "      dtype=[(('Channel/PMT number', 'channel'), '<i2'), (('Time resolution in ns', 'dt'), '<i2'), (('Start time of the interval (ns since unix epoch)', 'time'), '<i8'), (('Length of the interval in samples', 'length'), '<i4'), (('Integral in ADC x samples', 'area'), '<i4'), (('Length of pulse to which the record belongs (without zero-padding)', 'pulse_length'), '<i4'), (('Fragment number in the pulse', 'record_i'), '<i2'), (('Baseline in ADC counts. data = int(baseline) - data_orig', 'baseline'), '<f4'), (('Level of data reduction applied (strax.ReductionLevel enum)', 'reduction_level'), 'u1'), (('Waveform data in ADC counts above baseline', 'data'), '<i2', (110,))])"
      ]
     },
     "execution_count": 8,
     "metadata": {},
     "output_type": "execute_result"
    }
   ],
   "source": [
    "bla"
   ]
  },
  {
   "cell_type": "code",
   "execution_count": 10,
   "metadata": {
    "collapsed": false
   },
   "outputs": [
    {
     "ename": "NameError",
     "evalue": "name 'export' is not defined",
     "output_type": "error",
     "traceback": [
      "\u001b[0;31m---------------------------------------------------------------------------\u001b[0m",
      "\u001b[0;31mNameError\u001b[0m                                 Traceback (most recent call last)",
      "\u001b[0;32m<ipython-input-10-74e1c9a48363>\u001b[0m in \u001b[0;36m<module>\u001b[0;34m\u001b[0m\n\u001b[0;32m----> 1\u001b[0;31m \u001b[0;34m@\u001b[0m\u001b[0mexport\u001b[0m\u001b[0;34m\u001b[0m\u001b[0m\n\u001b[0m\u001b[1;32m      2\u001b[0m @strax.takes_config(\n\u001b[1;32m      3\u001b[0m     \u001b[0mstrax\u001b[0m\u001b[0;34m.\u001b[0m\u001b[0mOption\u001b[0m\u001b[0;34m(\u001b[0m\u001b[0;34m'software_zle_channels'\u001b[0m\u001b[0;34m,\u001b[0m \u001b[0mdefault\u001b[0m \u001b[0;34m=\u001b[0m \u001b[0;34m[\u001b[0m\u001b[0;34m]\u001b[0m\u001b[0;34m,\u001b[0m \u001b[0mhelp\u001b[0m\u001b[0;34m=\u001b[0m \u001b[0;34m'Channels to apply software ZLE to'\u001b[0m\u001b[0;34m)\u001b[0m\u001b[0;34m,\u001b[0m\u001b[0;34m\u001b[0m\u001b[0m\n\u001b[1;32m      4\u001b[0m     \u001b[0mstrax\u001b[0m\u001b[0;34m.\u001b[0m\u001b[0mOption\u001b[0m\u001b[0;34m(\u001b[0m\u001b[0;34m'hitfinder_threshold'\u001b[0m\u001b[0;34m,\u001b[0m \u001b[0mdefault\u001b[0m \u001b[0;34m=\u001b[0m \u001b[0;36m15\u001b[0m\u001b[0;34m,\u001b[0m \u001b[0mhelp\u001b[0m\u001b[0;34m=\u001b[0m \u001b[0;34m'Min ADC count threshold used if ZLE is applied'\u001b[0m\u001b[0;34m)\u001b[0m\u001b[0;34m,\u001b[0m\u001b[0;34m\u001b[0m\u001b[0m\n\u001b[1;32m      5\u001b[0m     \u001b[0mstrax\u001b[0m\u001b[0;34m.\u001b[0m\u001b[0mOption\u001b[0m\u001b[0;34m(\u001b[0m\u001b[0;34m'extension'\u001b[0m\u001b[0;34m,\u001b[0m \u001b[0mdefault\u001b[0m\u001b[0;34m=\u001b[0m\u001b[0;36m50\u001b[0m\u001b[0;34m,\u001b[0m \u001b[0mhelp\u001b[0m\u001b[0;34m=\u001b[0m\u001b[0;34m'Number of samples to save around a hit'\u001b[0m\u001b[0;34m)\u001b[0m\u001b[0;34m\u001b[0m\u001b[0m\n",
      "\u001b[0;31mNameError\u001b[0m: name 'export' is not defined"
     ]
    }
   ],
   "source": [
    "@export\n",
    "@strax.takes_config(\n",
    "    strax.Option('software_zle_channels', default = [], help= 'Channels to apply software ZLE to'),\n",
    "    strax.Option('hitfinder_threshold', default = 15, help= 'Min ADC count threshold used if ZLE is applied'),\n",
    "    strax.Option('extension', default=50, help='Number of samples to save around a hit')\n",
    ")\n",
    "\n",
    "                          \n",
    "class Records(strax.Plugin):\n",
    "    __version__ = '0.0.3'\n",
    "    depends_on = ('raw_records',)\n",
    "    data_kind = 'records'   # TODO: indicate cuts have been done?\n",
    "    compressor = 'zstd'\n",
    "    parallel = True\n",
    "    rechunk_on_save = False\n",
    "    dtype = strax.record_dtype()\n",
    "\n",
    "    def compute(self, raw_records):\n",
    "        r = raw_records[raw_records['channel'] in self.config['software_zle_channels']]\n",
    "        if len(r) :\n",
    "            hits = strax.find_hits(r)\n",
    "            r = strax.cut_outside_hits(r, hits, left_extension=self.config['extension'],\n",
    "                                                right_extension=self.config['extension'])\n",
    "        raw_records[raw_records['channel'] in self.config['software_zle_channels']] = r\n",
    "        return raw_records"
   ]
  },
  {
   "cell_type": "code",
   "execution_count": 5,
   "metadata": {
    "collapsed": false
   },
   "outputs": [
    {
     "name": "stdout",
     "output_type": "stream",
     "text": [
      "CPU times: user 17.1 s, sys: 734 ms, total: 17.9 s\n",
      "Wall time: 16.7 s\n"
     ]
    }
   ],
   "source": [
    "%%time\n",
    "st.make(run_id, 'raw_records')"
   ]
  },
  {
   "cell_type": "code",
   "execution_count": 6,
   "metadata": {
    "collapsed": true
   },
   "outputs": [],
   "source": [
    "recs = st.get_array(run_id, 'raw_records')"
   ]
  },
  {
   "cell_type": "code",
   "execution_count": 7,
   "metadata": {
    "collapsed": false
   },
   "outputs": [
    {
     "data": {
      "text/plain": [
       "array([(8, 10,      5086,  82,  -61,  82, 0, 8359.1  , 0, [  0,  -1,   0,  -2,  -2,  -2,  -3,  -1,   0,   2,   1,   0,   1,   0,  -2,  -1,   1,  -2,  -1,   2,   1,   2,   2,   1,   0,   2,   2,  -2,   0,   0,   1,  -1,   2,   0,   1,  -2,  -2,  -2,   0,   1, -11, -13,  -9,  -8,  -4,  -2,  -3,  -1,  -2,  -1,   0,  -1,   1,  -1,  -1,  -1,   1,   1,   0,  -2,  -3,   2,   0,   2,   1,   2,  -3,  -2,  -1,  -1,   0,   2,   2,   1,  -1,   0,  -2,   1,   0,  -2,   1,   1,   0,   0,   0,   0,   0,   0,   0,   0,   0,   0,   0,   0,   0,   0,   0,   0,   0,   0,   0,   0,   0,   0,   0,   0,   0,   0,   0,   0]),\n",
       "       (8, 10,      5946,  84, -113,  84, 0, 8358.575, 0, [ -1,   0,   1,   0,   0,   0,   0,  -2,   1,  -2,  -3,  -1,   2,   1,   0,  -2,   0,   1,   0,   0,   2,  -2,  -2,   0,   3,   0,   0,  -2,  -1,  -4,  -2,   0,  -2,  -3,  -1,  -1,  -1,   1,   0,  -3,  -6, -17, -14, -11,  -2,  -3,  -1,  -3,  -2,  -3,  -3,   0,  -2,  -3,  -3,   0,  -1,  -2,   0,  -1,  -2,   0,   0,  -1,   0,   0,   1,  -3,  -3,  -2,   0,   1,  -1,   1,   1,   0,  -1,   0,  -2,  -1,  -1,   1,  -1,   0,   0,   0,   0,   0,   0,   0,   0,   0,   0,   0,   0,   0,   0,   0,   0,   0,   0,   0,   0,   0,   0,   0,   0,   0,   0,   0]),\n",
       "       (8, 10,      6826, 110, -170, 116, 0, 8359.225, 0, [ -2,  -1,   0,  -1,   0,  -1,   1,   1,   1,   1,  -1,  -1,   1,   0,  -1,  -1,   1,   1,   0,   3,   3,   0,  -1,  -1,  -1,   0,  -3,  -3,   0,  -2,   2,  -1,   1,   1,  -1,  -3,   1,   0,   0,  -2, -21, -24, -16, -12,  -8,  -6,  -2,  -1,  -2,  -1,  -1,   0,   0,  -1,   0,   0,   0,   1,   2,   2,   0,  -2,   1,   0,  -1,   0,  -1,  -1,   1,  -1,  -1,   0,   0,  -2,  -1, -11, -10,  -9,  -5,  -2,   0,  -2,  -2,   1,  -2,  -2,  -1,  -1,  -2,  -1,   1,  -1,  -1,  -1,  -3,   0,  -1,   0,   0,  -2,  -4,  -1,   0,   3,   2,   1,  -2,  -1,  -2,  -2]),\n",
       "       ...,\n",
       "       (8, 10, 775221562,  60,   31,  60, 0, 8360.075, 0, [  1,   2,   1,   0,   3,   2,   2,   1,   4,   2,   2,   0,  -1,   1,   0,   2,  -1, -13, -14,  -8,  -6,  -4,  -2,  -2,   0,   2,   0,   3,   1,   2,   1,   3,   2,   1,   1,   0,   1,   2,   2,   4,   3,   1,   0,   3,   4,   4,   1,   0,   1,   0,   0,   3,   3,   2,   1,   1,   2,   1,   1,   3,   0,   0,   0,   0,   0,   0,   0,   0,   0,   0,   0,   0,   0,   0,   0,   0,   0,   0,   0,   0,   0,   0,   0,   0,   0,   0,   0,   0,   0,   0,   0,   0,   0,   0,   0,   0,   0,   0,   0,   0,   0,   0,   0,   0,   0,   0,   0,   0,   0,   0]),\n",
       "       (8, 10, 775222202,  86, -260,  86, 0, 8358.9  , 0, [ -3,   1,   0,   0,   1,  -4,   0,  -3,   1,  -3,   0,   2,   1,  -1,  -1,   1,  -1,  -3,  -1,  -3,   0,  -2,   1,   0,   0,  -2,  -1,  -1,  -1,   0,  -4,  -3,  -1,  -4,   0,   1,   2,  -1,  -2,  -2, -12, -26, -25, -24, -16, -13,  -7,  -8,  -3,   0,  -2,  -3,  -2,  -2,  -4,  -2, -11, -11,  -8,  -7,  -4,  -3,  -6,  -2,  -1,   0,  -2,   0,  -2,  -1,   0,   2,   0,  -1,  -3,  -1,  -3,  -2,  -1,   3,  -3,  -3,  -4,   0,   1,  -2,   0,   0,   0,   0,   0,   0,   0,   0,   0,   0,   0,   0,   0,   0,   0,   0,   0,   0,   0,   0,   0,   0,   0,   0]),\n",
       "       (8, 10, 775223102,  86, -154,  86, 0, 8359.775, 0, [ -2,  -2,   0,   1,  -1,   0, -10,  -9,  -9,  -6,  -6,  -2,   0,   1,  -1,   1,   0,  -1,   0,   2,   2,   1,   0,   3,   1,   0,   0,  -1,   0,   1,   1,   1,   3,  -1,   2,   0,  -2,  -1,   1,   2,   0, -25, -24, -17, -12, -11,  -6,  -5,  -4,  -3,  -4,  -3,  -4,   0,   1,  -2,  -1,  -1,   1,   1,   2,   1,  -1,  -1,  -2,  -1,  -1,   0,   1,  -2,   0,   4,   2,   0,   1,  -1,   2,  -1,  -2,   0,  -1,   0,  -2,   0,  -3,   1,   0,   0,   0,   0,   0,   0,   0,   0,   0,   0,   0,   0,   0,   0,   0,   0,   0,   0,   0,   0,   0,   0,   0,   0])],\n",
       "      dtype=[(('Channel/PMT number', 'channel'), '<i2'), (('Time resolution in ns', 'dt'), '<i2'), (('Start time of the interval (ns since unix epoch)', 'time'), '<i8'), (('Length of the interval in samples', 'length'), '<i4'), (('Integral in ADC x samples', 'area'), '<i4'), (('Length of pulse to which the record belongs (without zero-padding)', 'pulse_length'), '<i4'), (('Fragment number in the pulse', 'record_i'), '<i2'), (('Baseline in ADC counts. data = int(baseline) - data_orig', 'baseline'), '<f4'), (('Level of data reduction applied (strax.ReductionLevel enum)', 'reduction_level'), 'u1'), (('Waveform data in ADC counts above baseline', 'data'), '<i2', (110,))])"
      ]
     },
     "execution_count": 7,
     "metadata": {},
     "output_type": "execute_result"
    }
   ],
   "source": [
    "recs"
   ]
  },
  {
   "cell_type": "code",
   "execution_count": null,
   "metadata": {
    "collapsed": true
   },
   "outputs": [],
   "source": [
    "# passing only pulse location lists"
   ]
  },
  {
   "cell_type": "code",
   "execution_count": 7,
   "metadata": {
    "collapsed": false
   },
   "outputs": [
    {
     "name": "stdout",
     "output_type": "stream",
     "text": [
      "CPU times: user 19.2 s, sys: 1.75 s, total: 21 s\n",
      "Wall time: 19.7 s\n"
     ]
    }
   ],
   "source": [
    "%%time\n",
    "st.make(run_id, 'raw_records')"
   ]
  },
  {
   "cell_type": "code",
   "execution_count": 5,
   "metadata": {
    "collapsed": false
   },
   "outputs": [
    {
     "name": "stdout",
     "output_type": "stream",
     "text": [
      "CPU times: user 19.1 s, sys: 1.83 s, total: 20.9 s\n",
      "Wall time: 20.2 s\n"
     ]
    }
   ],
   "source": [
    "%%time\n",
    "st.make(run_id, 'raw_records')"
   ]
  },
  {
   "cell_type": "code",
   "execution_count": null,
   "metadata": {
    "collapsed": true
   },
   "outputs": [],
   "source": []
  },
  {
   "cell_type": "code",
   "execution_count": null,
   "metadata": {
    "collapsed": true
   },
   "outputs": [],
   "source": []
  },
  {
   "cell_type": "code",
   "execution_count": 5,
   "metadata": {
    "collapsed": false
   },
   "outputs": [
    {
     "name": "stdout",
     "output_type": "stream",
     "text": [
      "CPU times: user 24.6 s, sys: 1.83 s, total: 26.5 s\n",
      "Wall time: 25.2 s\n"
     ]
    }
   ],
   "source": [
    "%%time\n",
    "st.make(run_id, 'raw_records')"
   ]
  },
  {
   "cell_type": "code",
   "execution_count": null,
   "metadata": {
    "collapsed": true
   },
   "outputs": [],
   "source": []
  },
  {
   "cell_type": "code",
   "execution_count": null,
   "metadata": {
    "collapsed": true
   },
   "outputs": [],
   "source": []
  },
  {
   "cell_type": "code",
   "execution_count": 8,
   "metadata": {
    "collapsed": false
   },
   "outputs": [
    {
     "name": "stdout",
     "output_type": "stream",
     "text": [
      "CPU times: user 20.9 s, sys: 1.37 s, total: 22.2 s\n",
      "Wall time: 21.2 s\n"
     ]
    }
   ],
   "source": [
    "%%time\n",
    "st.make(run_id, 'raw_records')"
   ]
  },
  {
   "cell_type": "code",
   "execution_count": null,
   "metadata": {
    "collapsed": true
   },
   "outputs": [],
   "source": []
  },
  {
   "cell_type": "code",
   "execution_count": null,
   "metadata": {
    "collapsed": true
   },
   "outputs": [],
   "source": [
    "# Only decoding control words"
   ]
  },
  {
   "cell_type": "code",
   "execution_count": 5,
   "metadata": {
    "collapsed": false
   },
   "outputs": [
    {
     "name": "stdout",
     "output_type": "stream",
     "text": [
      "CPU times: user 16.6 s, sys: 1.19 s, total: 17.7 s\n",
      "Wall time: 16.9 s\n"
     ]
    }
   ],
   "source": [
    "%%time\n",
    "st.make(run_id, 'raw_records')"
   ]
  },
  {
   "cell_type": "code",
   "execution_count": null,
   "metadata": {
    "collapsed": true
   },
   "outputs": [],
   "source": []
  },
  {
   "cell_type": "code",
   "execution_count": null,
   "metadata": {
    "collapsed": true
   },
   "outputs": [],
   "source": []
  },
  {
   "cell_type": "code",
   "execution_count": null,
   "metadata": {
    "collapsed": true
   },
   "outputs": [],
   "source": [
    "# No JIT"
   ]
  },
  {
   "cell_type": "code",
   "execution_count": 7,
   "metadata": {
    "collapsed": false
   },
   "outputs": [
    {
     "name": "stdout",
     "output_type": "stream",
     "text": [
      "CPU times: user 33.8 s, sys: 1.39 s, total: 35.1 s\n",
      "Wall time: 34.1 s\n"
     ]
    }
   ],
   "source": [
    "%%time\n",
    "st.make(run_id, 'raw_records')"
   ]
  },
  {
   "cell_type": "code",
   "execution_count": null,
   "metadata": {
    "collapsed": true
   },
   "outputs": [],
   "source": []
  },
  {
   "cell_type": "code",
   "execution_count": null,
   "metadata": {
    "collapsed": true
   },
   "outputs": [],
   "source": []
  },
  {
   "cell_type": "code",
   "execution_count": null,
   "metadata": {
    "collapsed": true
   },
   "outputs": [],
   "source": []
  },
  {
   "cell_type": "code",
   "execution_count": null,
   "metadata": {
    "collapsed": true
   },
   "outputs": [],
   "source": []
  },
  {
   "cell_type": "code",
   "execution_count": null,
   "metadata": {
    "collapsed": true
   },
   "outputs": [],
   "source": [
    "raw_records = st.get_array(run_id, 'raw_records')"
   ]
  },
  {
   "cell_type": "code",
   "execution_count": null,
   "metadata": {
    "collapsed": true
   },
   "outputs": [],
   "source": [
    "raw_records['baseline']"
   ]
  },
  {
   "cell_type": "code",
   "execution_count": 6,
   "metadata": {
    "collapsed": true
   },
   "outputs": [],
   "source": [
    "peaks = st.get_array(run_id, 'peaks', config=dict(min_hits=1) )"
   ]
  },
  {
   "cell_type": "code",
   "execution_count": null,
   "metadata": {
    "collapsed": true
   },
   "outputs": [],
   "source": [
    "plt.hist(peaks['area'],bins=50,log=True)"
   ]
  },
  {
   "cell_type": "code",
   "execution_count": null,
   "metadata": {
    "collapsed": true
   },
   "outputs": [],
   "source": [
    "peaks = st.get_array(run_id, 'peaks', config=dict(min_hits=1))"
   ]
  },
  {
   "cell_type": "code",
   "execution_count": null,
   "metadata": {
    "collapsed": true
   },
   "outputs": [],
   "source": [
    "import numpy as np\n",
    "import matplotlib\n",
    "import matplotlib.pyplot as plt\n",
    "%matplotlib inline\n",
    "\n",
    "def plot_peaks(main_i, n_before=0, n_after=0, label_threshold=0):\n",
    "    for i in main_i + np.arange(-n_before, n_after + 1):\n",
    "        p = peaks[i]\n",
    "        label = None\n",
    "        if p['area'] > label_threshold:\n",
    "            label = '%.1f PE, %d ns dt' % (p['area'], p['dt'], )\n",
    "        plot_peak(p,\n",
    "                  t0=peaks[main_i]['time'],\n",
    "                  label=label)\n",
    "    plt.ylim(0, None)\n",
    "    plt.legend(loc='upper right')\n",
    "    #plt.yscale('symlog')\n",
    "\n",
    "def plot_peak(p, t0=None, **kwargs):\n",
    "    n = p['length']\n",
    "    if t0 is None:\n",
    "        t0 = p['time']\n",
    "    plt.plot((p['time'] - t0) + np.arange(n) * p['dt'],\n",
    "             p['data'][:n] / p['dt'],\n",
    "             linestyle='steps-mid',\n",
    "             **kwargs)\n",
    "    plt.xlabel(\"Time (ns)\")\n",
    "    plt.ylabel(\"Sum waveform (PE / ns)\")\n"
   ]
  },
  {
   "cell_type": "code",
   "execution_count": null,
   "metadata": {
    "collapsed": true
   },
   "outputs": [],
   "source": [
    "plot_peak(peaks[0])"
   ]
  },
  {
   "cell_type": "code",
   "execution_count": null,
   "metadata": {
    "collapsed": true
   },
   "outputs": [],
   "source": [
    "peaks"
   ]
  },
  {
   "cell_type": "code",
   "execution_count": null,
   "metadata": {
    "collapsed": true
   },
   "outputs": [],
   "source": [
    "amstrax.Peaks?"
   ]
  },
  {
   "cell_type": "code",
   "execution_count": null,
   "metadata": {
    "collapsed": true
   },
   "outputs": [],
   "source": []
  }
 ],
 "metadata": {
  "anaconda-cloud": {},
  "kernelspec": {
   "display_name": "Python 3",
   "language": "python",
   "name": "python3"
  },
  "language_info": {
   "codemirror_mode": {
    "name": "ipython",
    "version": 3
   },
   "file_extension": ".py",
   "mimetype": "text/x-python",
   "name": "python",
   "nbconvert_exporter": "python",
   "pygments_lexer": "ipython3",
   "version": "3.6.2"
  }
 },
 "nbformat": 4,
 "nbformat_minor": 2
}
