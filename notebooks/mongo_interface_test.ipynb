{
 "cells": [
  {
   "cell_type": "code",
   "execution_count": 1,
   "metadata": {},
   "outputs": [],
   "source": [
    "import numpy as np\n",
    "import matplotlib.pyplot as plt\n",
    "import amstrax\n",
    "import strax\n",
    "%matplotlib inline"
   ]
  },
  {
   "cell_type": "code",
   "execution_count": 2,
   "metadata": {},
   "outputs": [],
   "source": [
    "def print_entry(d, n=0, skip_lists=False):\n",
    "    ''' Print one entry\n",
    "    '''\n",
    "    el = d[n]\n",
    "    for key in d.dtype.names:\n",
    "        if (type(el[key]) == list or type(el[key]) == np.ndarray) and skip_lists:\n",
    "            continue\n",
    "        else:\n",
    "            print(\"{:<15} : \".format(key), el[key])\n",
    "    return"
   ]
  },
  {
   "cell_type": "code",
   "execution_count": 3,
   "metadata": {},
   "outputs": [],
   "source": [
    "run_id = '190124_114450'"
   ]
  },
  {
   "cell_type": "code",
   "execution_count": 4,
   "metadata": {},
   "outputs": [],
   "source": [
    "!rm -rf ./strax_data/190124_114450-*"
   ]
  },
  {
   "cell_type": "code",
   "execution_count": 5,
   "metadata": {},
   "outputs": [],
   "source": [
    "st = strax.Context(storage=strax.DataDirectory('./strax_data'),\n",
    "                   register = [amstrax.RecordsFromMongo, amstrax.Records, amstrax.Peaks],\n",
    "                   config=dict(collection_name = run_id, events_per_chunk = 1000, \n",
    "                               software_zle_hitfinder_threshold=6, software_zle_channels = [0, 1,2,3,4,5,6,7],\n",
    "                               software_zle_extension = 20, hitfinder_threshold = 10, min_hits=1\n",
    "                              ))"
   ]
  },
  {
   "cell_type": "code",
   "execution_count": 6,
   "metadata": {},
   "outputs": [
    {
     "name": "stdout",
     "output_type": "stream",
     "text": [
      "CPU times: user 10.7 s, sys: 283 ms, total: 11 s\n",
      "Wall time: 9.67 s\n"
     ]
    }
   ],
   "source": [
    "%%time\n",
    "st.make(run_id, 'raw_records')"
   ]
  },
  {
   "cell_type": "code",
   "execution_count": 7,
   "metadata": {},
   "outputs": [
    {
     "name": "stdout",
     "output_type": "stream",
     "text": [
      "CPU times: user 3.14 s, sys: 257 ms, total: 3.39 s\n",
      "Wall time: 2.34 s\n"
     ]
    }
   ],
   "source": [
    "%%time\n",
    "st.make(run_id, 'records')"
   ]
  },
  {
   "cell_type": "code",
   "execution_count": 26,
   "metadata": {},
   "outputs": [
    {
     "data": {
      "text/html": [
       "<div>\n",
       "<style scoped>\n",
       "    .dataframe tbody tr th:only-of-type {\n",
       "        vertical-align: middle;\n",
       "    }\n",
       "\n",
       "    .dataframe tbody tr th {\n",
       "        vertical-align: top;\n",
       "    }\n",
       "\n",
       "    .dataframe thead th {\n",
       "        text-align: right;\n",
       "    }\n",
       "</style>\n",
       "<table border=\"1\" class=\"dataframe\">\n",
       "  <thead>\n",
       "    <tr style=\"text-align: right;\">\n",
       "      <th></th>\n",
       "      <th>option</th>\n",
       "      <th>default</th>\n",
       "      <th>current</th>\n",
       "      <th>applies_to</th>\n",
       "      <th>help</th>\n",
       "    </tr>\n",
       "  </thead>\n",
       "  <tbody>\n",
       "    <tr>\n",
       "      <th>0</th>\n",
       "      <td>min_hits</td>\n",
       "      <td>1</td>\n",
       "      <td>1</td>\n",
       "      <td>peaks</td>\n",
       "      <td>Minimum number of hits to make a peak</td>\n",
       "    </tr>\n",
       "    <tr>\n",
       "      <th>1</th>\n",
       "      <td>diagnose_sorting</td>\n",
       "      <td>False</td>\n",
       "      <td>&lt;OMITTED&gt;</td>\n",
       "      <td>peaks</td>\n",
       "      <td>Enable runtime checks for sorting and disjoint...</td>\n",
       "    </tr>\n",
       "    <tr>\n",
       "      <th>2</th>\n",
       "      <td>hitfinder_threshold</td>\n",
       "      <td>10</td>\n",
       "      <td>10</td>\n",
       "      <td>peaks</td>\n",
       "      <td>Threshold in ADC counts</td>\n",
       "    </tr>\n",
       "    <tr>\n",
       "      <th>3</th>\n",
       "      <td>left_extension</td>\n",
       "      <td>20</td>\n",
       "      <td>&lt;OMITTED&gt;</td>\n",
       "      <td>peaks</td>\n",
       "      <td>Extend peaks by this many ns left</td>\n",
       "    </tr>\n",
       "    <tr>\n",
       "      <th>4</th>\n",
       "      <td>right_extension</td>\n",
       "      <td>150</td>\n",
       "      <td>&lt;OMITTED&gt;</td>\n",
       "      <td>peaks</td>\n",
       "      <td>Extend peaks by this many ns right</td>\n",
       "    </tr>\n",
       "    <tr>\n",
       "      <th>5</th>\n",
       "      <td>gap_threshold</td>\n",
       "      <td>300</td>\n",
       "      <td>&lt;OMITTED&gt;</td>\n",
       "      <td>peaks</td>\n",
       "      <td>No hits for this much ns means new peak</td>\n",
       "    </tr>\n",
       "    <tr>\n",
       "      <th>6</th>\n",
       "      <td>software_zle_channels</td>\n",
       "      <td>[]</td>\n",
       "      <td>[0, 1, 2, 3, 4, 5, 6, 7]</td>\n",
       "      <td>records</td>\n",
       "      <td>Channels to apply software ZLE to</td>\n",
       "    </tr>\n",
       "    <tr>\n",
       "      <th>7</th>\n",
       "      <td>software_zle_hitfinder_threshold</td>\n",
       "      <td>15</td>\n",
       "      <td>6</td>\n",
       "      <td>records</td>\n",
       "      <td>Min ADC count threshold used if ZLE is applied</td>\n",
       "    </tr>\n",
       "    <tr>\n",
       "      <th>8</th>\n",
       "      <td>software_zle_extension</td>\n",
       "      <td>50</td>\n",
       "      <td>20</td>\n",
       "      <td>records</td>\n",
       "      <td>Number of samples to save around a hit</td>\n",
       "    </tr>\n",
       "    <tr>\n",
       "      <th>9</th>\n",
       "      <td>collection_name</td>\n",
       "      <td></td>\n",
       "      <td>190124_114450</td>\n",
       "      <td>raw_records</td>\n",
       "      <td>Collection used, example: '190124_110558'</td>\n",
       "    </tr>\n",
       "    <tr>\n",
       "      <th>10</th>\n",
       "      <td>events_per_chunk</td>\n",
       "      <td>1000</td>\n",
       "      <td>1000</td>\n",
       "      <td>raw_records</td>\n",
       "      <td>Number of events to yield per chunk</td>\n",
       "    </tr>\n",
       "    <tr>\n",
       "      <th>11</th>\n",
       "      <td>invert_channels</td>\n",
       "      <td>[8, 9, 10, 11, 12, 13, 14, 15]</td>\n",
       "      <td>&lt;OMITTED&gt;</td>\n",
       "      <td>raw_records</td>\n",
       "      <td>List containing the channel numbers to invert</td>\n",
       "    </tr>\n",
       "    <tr>\n",
       "      <th>12</th>\n",
       "      <td>zle_channels</td>\n",
       "      <td>[8, 9, 10, 11, 12, 13, 14, 15]</td>\n",
       "      <td>&lt;OMITTED&gt;</td>\n",
       "      <td>raw_records</td>\n",
       "      <td>List containing the channel numbers that have ...</td>\n",
       "    </tr>\n",
       "  </tbody>\n",
       "</table>\n",
       "</div>"
      ],
      "text/plain": [
       "                              option                         default  \\\n",
       "0                           min_hits                               1   \n",
       "1                   diagnose_sorting                           False   \n",
       "2                hitfinder_threshold                              10   \n",
       "3                     left_extension                              20   \n",
       "4                    right_extension                             150   \n",
       "5                      gap_threshold                             300   \n",
       "6              software_zle_channels                              []   \n",
       "7   software_zle_hitfinder_threshold                              15   \n",
       "8             software_zle_extension                              50   \n",
       "9                    collection_name                                   \n",
       "10                  events_per_chunk                            1000   \n",
       "11                   invert_channels  [8, 9, 10, 11, 12, 13, 14, 15]   \n",
       "12                      zle_channels  [8, 9, 10, 11, 12, 13, 14, 15]   \n",
       "\n",
       "                     current   applies_to  \\\n",
       "0                          1        peaks   \n",
       "1                  <OMITTED>        peaks   \n",
       "2                         10        peaks   \n",
       "3                  <OMITTED>        peaks   \n",
       "4                  <OMITTED>        peaks   \n",
       "5                  <OMITTED>        peaks   \n",
       "6   [0, 1, 2, 3, 4, 5, 6, 7]      records   \n",
       "7                          6      records   \n",
       "8                         20      records   \n",
       "9              190124_114450  raw_records   \n",
       "10                      1000  raw_records   \n",
       "11                 <OMITTED>  raw_records   \n",
       "12                 <OMITTED>  raw_records   \n",
       "\n",
       "                                                 help  \n",
       "0               Minimum number of hits to make a peak  \n",
       "1   Enable runtime checks for sorting and disjoint...  \n",
       "2                             Threshold in ADC counts  \n",
       "3                   Extend peaks by this many ns left  \n",
       "4                  Extend peaks by this many ns right  \n",
       "5             No hits for this much ns means new peak  \n",
       "6                   Channels to apply software ZLE to  \n",
       "7      Min ADC count threshold used if ZLE is applied  \n",
       "8              Number of samples to save around a hit  \n",
       "9           Collection used, example: '190124_110558'  \n",
       "10                Number of events to yield per chunk  \n",
       "11      List containing the channel numbers to invert  \n",
       "12  List containing the channel numbers that have ...  "
      ]
     },
     "execution_count": 26,
     "metadata": {},
     "output_type": "execute_result"
    }
   ],
   "source": [
    "st.show_config('peaks')"
   ]
  },
  {
   "cell_type": "code",
   "execution_count": 27,
   "metadata": {},
   "outputs": [
    {
     "name": "stdout",
     "output_type": "stream",
     "text": [
      "CPU times: user 15.1 s, sys: 8.33 s, total: 23.5 s\n",
      "Wall time: 8.16 s\n"
     ]
    }
   ],
   "source": [
    "%%time\n",
    "st.make(run_id, 'peaks', config=dict(left_extension = 50))"
   ]
  },
  {
   "cell_type": "code",
   "execution_count": 28,
   "metadata": {},
   "outputs": [],
   "source": [
    "peaks = st.get_array(run_id, 'peaks', config=dict(left_extension = 50))"
   ]
  },
  {
   "cell_type": "code",
   "execution_count": 29,
   "metadata": {},
   "outputs": [
    {
     "data": {
      "text/plain": [
       "[<matplotlib.lines.Line2D at 0x7fe51cc16dd8>]"
      ]
     },
     "execution_count": 29,
     "metadata": {},
     "output_type": "execute_result"
    },
    {
     "data": {
      "image/png": "[encoded data removed]",
      "text/plain": [
       "<matplotlib.figure.Figure at 0x7fe51c7234e0>"
      ]
     },
     "metadata": {
      "needs_background": "light"
     },
     "output_type": "display_data"
    }
   ],
   "source": [
    "plt.plot(peaks[4]['data'])"
   ]
  },
  {
   "cell_type": "code",
   "execution_count": 31,
   "metadata": {},
   "outputs": [
    {
     "data": {
      "text/html": [
       "<div>\n",
       "<style scoped>\n",
       "    .dataframe tbody tr th:only-of-type {\n",
       "        vertical-align: middle;\n",
       "    }\n",
       "\n",
       "    .dataframe tbody tr th {\n",
       "        vertical-align: top;\n",
       "    }\n",
       "\n",
       "    .dataframe thead th {\n",
       "        text-align: right;\n",
       "    }\n",
       "</style>\n",
       "<table border=\"1\" class=\"dataframe\">\n",
       "  <thead>\n",
       "    <tr style=\"text-align: right;\">\n",
       "      <th></th>\n",
       "      <th>Field name</th>\n",
       "      <th>Data type</th>\n",
       "      <th>Comment</th>\n",
       "    </tr>\n",
       "  </thead>\n",
       "  <tbody>\n",
       "    <tr>\n",
       "      <th>0</th>\n",
       "      <td>channel</td>\n",
       "      <td>int16</td>\n",
       "      <td>Channel/PMT number</td>\n",
       "    </tr>\n",
       "    <tr>\n",
       "      <th>1</th>\n",
       "      <td>dt</td>\n",
       "      <td>int16</td>\n",
       "      <td>Time resolution in ns</td>\n",
       "    </tr>\n",
       "    <tr>\n",
       "      <th>2</th>\n",
       "      <td>time</td>\n",
       "      <td>int64</td>\n",
       "      <td>Start time of the interval (ns since unix epoch)</td>\n",
       "    </tr>\n",
       "    <tr>\n",
       "      <th>3</th>\n",
       "      <td>length</td>\n",
       "      <td>int32</td>\n",
       "      <td>Length of the interval in samples</td>\n",
       "    </tr>\n",
       "    <tr>\n",
       "      <th>4</th>\n",
       "      <td>area</td>\n",
       "      <td>float32</td>\n",
       "      <td>Integral across channels in photoelectrons</td>\n",
       "    </tr>\n",
       "    <tr>\n",
       "      <th>5</th>\n",
       "      <td>area_per_channel</td>\n",
       "      <td>('&lt;i4', (16,))</td>\n",
       "      <td>Integral per channel in ADX x samples (not PE!)</td>\n",
       "    </tr>\n",
       "    <tr>\n",
       "      <th>6</th>\n",
       "      <td>n_hits</td>\n",
       "      <td>int16</td>\n",
       "      <td>Number of hits from which peak was constructed...</td>\n",
       "    </tr>\n",
       "    <tr>\n",
       "      <th>7</th>\n",
       "      <td>data</td>\n",
       "      <td>('&lt;f4', (200,))</td>\n",
       "      <td>Waveform data in PE/sample (not PE/ns!)</td>\n",
       "    </tr>\n",
       "    <tr>\n",
       "      <th>8</th>\n",
       "      <td>width</td>\n",
       "      <td>('&lt;f4', (11,))</td>\n",
       "      <td>Peak widths in ns: range of central area fraction</td>\n",
       "    </tr>\n",
       "    <tr>\n",
       "      <th>9</th>\n",
       "      <td>saturated_channel</td>\n",
       "      <td>('&lt;i2', (16,))</td>\n",
       "      <td>Check if channel is saturated</td>\n",
       "    </tr>\n",
       "    <tr>\n",
       "      <th>10</th>\n",
       "      <td>n_saturated_channels</td>\n",
       "      <td>int16</td>\n",
       "      <td>Total number of saturated channels</td>\n",
       "    </tr>\n",
       "  </tbody>\n",
       "</table>\n",
       "</div>"
      ],
      "text/plain": [
       "              Field name        Data type  \\\n",
       "0                channel            int16   \n",
       "1                     dt            int16   \n",
       "2                   time            int64   \n",
       "3                 length            int32   \n",
       "4                   area          float32   \n",
       "5       area_per_channel   ('<i4', (16,))   \n",
       "6                 n_hits            int16   \n",
       "7                   data  ('<f4', (200,))   \n",
       "8                  width   ('<f4', (11,))   \n",
       "9      saturated_channel   ('<i2', (16,))   \n",
       "10  n_saturated_channels            int16   \n",
       "\n",
       "                                              Comment  \n",
       "0                                  Channel/PMT number  \n",
       "1                               Time resolution in ns  \n",
       "2    Start time of the interval (ns since unix epoch)  \n",
       "3                   Length of the interval in samples  \n",
       "4          Integral across channels in photoelectrons  \n",
       "5     Integral per channel in ADX x samples (not PE!)  \n",
       "6   Number of hits from which peak was constructed...  \n",
       "7             Waveform data in PE/sample (not PE/ns!)  \n",
       "8   Peak widths in ns: range of central area fraction  \n",
       "9                       Check if channel is saturated  \n",
       "10                 Total number of saturated channels  "
      ]
     },
     "execution_count": 31,
     "metadata": {},
     "output_type": "execute_result"
    }
   ],
   "source": [
    "st.data_info('peaks')"
   ]
  },
  {
   "cell_type": "code",
   "execution_count": null,
   "metadata": {},
   "outputs": [],
   "source": []
  },
  {
   "cell_type": "code",
   "execution_count": null,
   "metadata": {},
   "outputs": [],
   "source": []
  },
  {
   "cell_type": "code",
   "execution_count": null,
   "metadata": {},
   "outputs": [],
   "source": []
  },
  {
   "cell_type": "code",
   "execution_count": 30,
   "metadata": {},
   "outputs": [
    {
     "data": {
      "image/png": "[encoded data removed]",
      "text/plain": [
       "<matplotlib.figure.Figure at 0x7fe51ca470b8>"
      ]
     },
     "metadata": {
      "needs_background": "light"
     },
     "output_type": "display_data"
    }
   ],
   "source": [
    "plt.hist(peaks['area'], bins=100, histtype='step', range=(0, 400))\n",
    "plt.show()"
   ]
  },
  {
   "cell_type": "code",
   "execution_count": null,
   "metadata": {},
   "outputs": [],
   "source": []
  },
  {
   "cell_type": "code",
   "execution_count": null,
   "metadata": {
    "collapsed": true
   },
   "outputs": [],
   "source": []
  },
  {
   "cell_type": "code",
   "execution_count": 22,
   "metadata": {},
   "outputs": [
    {
     "data": {
      "text/plain": [
       "array([     5086,      5946,      6826, ..., 775221562, 775222202,\n",
       "       775223102])"
      ]
     },
     "execution_count": 22,
     "metadata": {},
     "output_type": "execute_result"
    }
   ],
   "source": []
  },
  {
   "cell_type": "code",
   "execution_count": 16,
   "metadata": {},
   "outputs": [
    {
     "data": {
      "text/plain": [
       "[<matplotlib.lines.Line2D at 0x7f4244ab4cf8>]"
      ]
     },
     "execution_count": 16,
     "metadata": {},
     "output_type": "execute_result"
    },
    {
     "data": {
      "image/png": "[encoded data removed]",
      "text/plain": [
       "<Figure size 432x288 with 1 Axes>"
      ]
     },
     "metadata": {
      "needs_background": "light"
     },
     "output_type": "display_data"
    }
   ],
   "source": [
    "plt.plot(r['time'], marker='.')"
   ]
  },
  {
   "cell_type": "code",
   "execution_count": 18,
   "metadata": {},
   "outputs": [
    {
     "data": {
      "text/plain": [
       "(8, 10, 5086, 82, 61, 82, 0, -8359.1, 0, [ 0,  1,  0,  2,  2,  2,  3,  1,  0, -2, -1,  0, -1,  0,  2,  1, -1,  2,  1, -2, -1, -2, -2, -1,  0, -2, -2,  2,  0,  0, -1,  1, -2,  0, -1,  2,  2,  2,  0, -1, 11, 13,  9,  8,  4,  2,  3,  1,  2,  1,  0,  1, -1,  1,  1,  1, -1, -1,  0,  2,  3, -2,  0, -2, -1, -2,  3,  2,  1,  1,  0, -2, -2, -1,  1,  0,  2, -1,  0,  2, -1, -1,  0,  0,  0,  0,  0,  0,  0,  0,  0,  0,  0,  0,  0,  0,  0,  0,  0,  0,  0,  0,  0,  0,  0,  0,  0,  0,  0,  0])"
      ]
     },
     "execution_count": 18,
     "metadata": {},
     "output_type": "execute_result"
    }
   ],
   "source": [
    "r[0]"
   ]
  },
  {
   "cell_type": "code",
   "execution_count": null,
   "metadata": {
    "collapsed": true
   },
   "outputs": [],
   "source": []
  },
  {
   "cell_type": "code",
   "execution_count": 6,
   "metadata": {},
   "outputs": [
    {
     "name": "stdout",
     "output_type": "stream",
     "text": [
      "[ True  True  True ...  True  True  True]\n",
      "20\n",
      "[ True  True  True ...  True  True  True]\n",
      "20\n",
      "[ True  True  True ...  True  True  True]\n",
      "20\n",
      "[ True  True  True ...  True  True  True]\n",
      "20\n",
      "[ True  True  True ...  True  True  True]\n",
      "20\n",
      "[ True  True  True ...  True  True  True]\n",
      "20\n",
      "[ True  True  True ...  True  True  True]\n",
      "20\n",
      "[ True  True  True ...  True  True  True]\n",
      "20\n",
      "[ True  True  True ...  True  True  True]\n",
      "20\n",
      "[ True  True  True ...  True  True  True]\n",
      "20\n",
      "[ True  True  True ...  True  True  True]\n",
      "20\n",
      "[ True  True  True ...  True  True  True]\n",
      "20\n",
      "[ True  True  True ...  True  True  True]\n",
      "20\n",
      "[ True  True  True ...  True  True  True]\n",
      "20\n",
      "[ True  True  True ...  True  True  True]\n",
      "20\n",
      "[ True  True  True ...  True  True  True]\n",
      "20\n",
      "[ True  True  True ...  True  True  True]\n",
      "20\n",
      "[ True  True  True ...  True  True  True]\n",
      "20\n",
      "[ True  True  True ...  True  True  True]\n",
      "20\n",
      "[ True  True  True ...  True  True  True]\n",
      "20\n",
      "[ True  True  True ...  True  True  True]\n",
      "20\n",
      "[ True  True  True ...  True  True  True]\n",
      "20\n",
      "[ True  True  True ...  True  True  True]\n",
      "20\n",
      "[ True  True  True ...  True  True  True]\n",
      "20\n",
      "[ True  True  True ...  True  True  True]\n",
      "20\n",
      "[ True  True  True ...  True  True  True]\n",
      "20\n",
      "[ True  True  True ...  True  True  True]\n",
      "20\n",
      "[ True  True  True ...  True  True  True]\n",
      "20\n",
      "[ True  True  True ...  True  True  True]\n",
      "20\n",
      "[ True  True  True ...  True  True  True]\n",
      "20\n",
      "[ True  True  True ...  True  True  True]\n",
      "20\n",
      "[ True  True  True ...  True  True  True]\n",
      "20\n",
      "[ True  True  True ...  True  True  True]\n",
      "20\n",
      "[ True  True  True ...  True  True  True]\n",
      "20\n",
      "[ True  True  True ...  True  True  True]\n",
      "20\n",
      "[ True  True  True ...  True  True  True]\n",
      "20\n",
      "[ True  True  True ...  True  True  True]\n",
      "20\n",
      "[ True  True  True ...  True  True  True]\n",
      "20\n",
      "[ True  True  True ...  True  True  True]\n",
      "20\n",
      "[ True  True  True ...  True  True  True]\n",
      "20\n",
      "[ True  True  True ...  True  True  True]\n",
      "20\n",
      "[ True  True  True ...  True  True  True]\n",
      "20\n",
      "[ True  True  True ...  True  True  True]\n",
      "20\n",
      "[ True  True  True ...  True  True  True]\n",
      "20\n",
      "[ True  True  True ...  True  True  True]\n",
      "20\n",
      "[ True  True  True ...  True  True  True]\n",
      "20\n",
      "[ True  True  True ...  True  True  True]\n",
      "20\n",
      "[ True  True  True ...  True  True  True]\n",
      "20\n",
      "[ True  True  True ...  True  True  True]\n",
      "20\n",
      "[ True  True  True ...  True  True  True]\n",
      "20\n",
      "[ True  True  True ...  True  True  True]\n",
      "20\n",
      "[ True  True  True ...  True  True  True]\n",
      "20\n"
     ]
    }
   ],
   "source": [
    "st.make(run_id, 'records', config=dict(software_zle_channels = [8], extension=20))"
   ]
  },
  {
   "cell_type": "code",
   "execution_count": 7,
   "metadata": {
    "collapsed": true
   },
   "outputs": [],
   "source": [
    "bla = st.get_array(run_id, 'records')"
   ]
  },
  {
   "cell_type": "code",
   "execution_count": 8,
   "metadata": {},
   "outputs": [
    {
     "data": {
      "text/plain": [
       "array([(8, 10,      5086,  82,  61,  82, 0, -8359.1  , 0, [ 0,  1,  0,  2,  2,  2,  3,  1,  0, -2, -1,  0, -1,  0,  2,  1, -1,  2,  1, -2, -1, -2, -2, -1,  0, -2, -2,  2,  0,  0, -1,  1, -2,  0, -1,  2,  2,  2,  0, -1, 11, 13,  9,  8,  4,  2,  3,  1,  2,  1,  0,  1, -1,  1,  1,  1, -1, -1,  0,  2,  3, -2,  0, -2, -1, -2,  3,  2,  1,  1,  0, -2, -2, -1,  1,  0,  2, -1,  0,  2, -1, -1,  0,  0,  0,  0,  0,  0,  0,  0,  0,  0,  0,  0,  0,  0,  0,  0,  0,  0,  0,  0,  0,  0,  0,  0,  0,  0,  0,  0]),\n",
       "       (8, 10,      5946,  84, 113,  84, 0, -8358.575, 0, [ 1,  0, -1,  0,  0,  0,  0,  2, -1,  2,  3,  1, -2, -1,  0,  2,  0, -1,  0,  0, -2,  2,  2,  0, -3,  0,  0,  2,  1,  4,  2,  0,  2,  3,  1,  1,  1, -1,  0,  3,  6, 17, 14, 11,  2,  3,  1,  3,  2,  3,  3,  0,  2,  3,  3,  0,  1,  2,  0,  1,  2,  0,  0,  1,  0,  0, -1,  3,  3,  2,  0, -1,  1, -1, -1,  0,  1,  0,  2,  1,  1, -1,  1,  0,  0,  0,  0,  0,  0,  0,  0,  0,  0,  0,  0,  0,  0,  0,  0,  0,  0,  0,  0,  0,  0,  0,  0,  0,  0,  0]),\n",
       "       (8, 10,      6826, 110, 170, 116, 0, -8359.225, 0, [ 2,  1,  0,  1,  0,  1, -1, -1, -1, -1,  1,  1, -1,  0,  1,  1, -1, -1,  0, -3, -3,  0,  1,  1,  1,  0,  3,  3,  0,  2, -2,  1, -1, -1,  1,  3, -1,  0,  0,  2, 21, 24, 16, 12,  8,  6,  2,  1,  2,  1,  1,  0,  0,  1,  0,  0,  0, -1, -2, -2,  0,  2, -1,  0,  1,  0,  1,  1, -1,  1,  1,  0,  0,  2,  1, 11, 10,  9,  5,  2,  0,  2,  2, -1,  2,  2,  1,  1,  2,  1, -1,  1,  1,  1,  3,  0,  1,  0,  0,  2,  4,  1,  0, -3, -2, -1,  2,  1,  2,  2]),\n",
       "       ...,\n",
       "       (8, 10, 775221562,  60, -31,  60, 0, -8360.075, 0, [-1, -2, -1,  0, -3, -2, -2, -1, -4, -2, -2,  0,  1, -1,  0, -2,  1, 13, 14,  8,  6,  4,  2,  2,  0, -2,  0, -3, -1, -2, -1, -3, -2, -1, -1,  0, -1, -2, -2, -4, -3, -1,  0, -3, -4, -4, -1,  0, -1,  0,  0, -3, -3, -2, -1, -1, -2, -1, -1, -3,  0,  0,  0,  0,  0,  0,  0,  0,  0,  0,  0,  0,  0,  0,  0,  0,  0,  0,  0,  0,  0,  0,  0,  0,  0,  0,  0,  0,  0,  0,  0,  0,  0,  0,  0,  0,  0,  0,  0,  0,  0,  0,  0,  0,  0,  0,  0,  0,  0,  0]),\n",
       "       (8, 10, 775222202,  86, 260,  86, 0, -8358.9  , 0, [ 3, -1,  0,  0, -1,  4,  0,  3, -1,  3,  0, -2, -1,  1,  1, -1,  1,  3,  1,  3,  0,  2, -1,  0,  0,  2,  1,  1,  1,  0,  4,  3,  1,  4,  0, -1, -2,  1,  2,  2, 12, 26, 25, 24, 16, 13,  7,  8,  3,  0,  2,  3,  2,  2,  4,  2, 11, 11,  8,  7,  4,  3,  6,  2,  1,  0,  2,  0,  2,  1,  0, -2,  0,  1,  3,  1,  3,  2,  1, -3,  3,  3,  4,  0, -1,  2,  0,  0,  0,  0,  0,  0,  0,  0,  0,  0,  0,  0,  0,  0,  0,  0,  0,  0,  0,  0,  0,  0,  0,  0]),\n",
       "       (8, 10, 775223102,  86, 154,  86, 0, -8359.775, 0, [ 2,  2,  0, -1,  1,  0, 10,  9,  9,  6,  6,  2,  0, -1,  1, -1,  0,  1,  0, -2, -2, -1,  0, -3, -1,  0,  0,  1,  0, -1, -1, -1, -3,  1, -2,  0,  2,  1, -1, -2,  0, 25, 24, 17, 12, 11,  6,  5,  4,  3,  4,  3,  4,  0, -1,  2,  1,  1, -1, -1, -2, -1,  1,  1,  2,  1,  1,  0, -1,  2,  0, -4, -2,  0, -1,  1, -2,  1,  2,  0,  1,  0,  2,  0,  3, -1,  0,  0,  0,  0,  0,  0,  0,  0,  0,  0,  0,  0,  0,  0,  0,  0,  0,  0,  0,  0,  0,  0,  0,  0])],\n",
       "      dtype=[(('Channel/PMT number', 'channel'), '<i2'), (('Time resolution in ns', 'dt'), '<i2'), (('Start time of the interval (ns since unix epoch)', 'time'), '<i8'), (('Length of the interval in samples', 'length'), '<i4'), (('Integral in ADC x samples', 'area'), '<i4'), (('Length of pulse to which the record belongs (without zero-padding)', 'pulse_length'), '<i4'), (('Fragment number in the pulse', 'record_i'), '<i2'), (('Baseline in ADC counts. data = int(baseline) - data_orig', 'baseline'), '<f4'), (('Level of data reduction applied (strax.ReductionLevel enum)', 'reduction_level'), 'u1'), (('Waveform data in ADC counts above baseline', 'data'), '<i2', (110,))])"
      ]
     },
     "execution_count": 8,
     "metadata": {},
     "output_type": "execute_result"
    }
   ],
   "source": [
    "bla"
   ]
  },
  {
   "cell_type": "code",
   "execution_count": 10,
   "metadata": {},
   "outputs": [
    {
     "ename": "NameError",
     "evalue": "name 'export' is not defined",
     "output_type": "error",
     "traceback": [
      "\u001b[0;31m---------------------------------------------------------------------------\u001b[0m",
      "\u001b[0;31mNameError\u001b[0m                                 Traceback (most recent call last)",
      "\u001b[0;32m<ipython-input-10-74e1c9a48363>\u001b[0m in \u001b[0;36m<module>\u001b[0;34m\u001b[0m\n\u001b[0;32m----> 1\u001b[0;31m \u001b[0;34m@\u001b[0m\u001b[0mexport\u001b[0m\u001b[0;34m\u001b[0m\u001b[0m\n\u001b[0m\u001b[1;32m      2\u001b[0m @strax.takes_config(\n\u001b[1;32m      3\u001b[0m     \u001b[0mstrax\u001b[0m\u001b[0;34m.\u001b[0m\u001b[0mOption\u001b[0m\u001b[0;34m(\u001b[0m\u001b[0;34m'software_zle_channels'\u001b[0m\u001b[0;34m,\u001b[0m \u001b[0mdefault\u001b[0m \u001b[0;34m=\u001b[0m \u001b[0;34m[\u001b[0m\u001b[0;34m]\u001b[0m\u001b[0;34m,\u001b[0m \u001b[0mhelp\u001b[0m\u001b[0;34m=\u001b[0m \u001b[0;34m'Channels to apply software ZLE to'\u001b[0m\u001b[0;34m)\u001b[0m\u001b[0;34m,\u001b[0m\u001b[0;34m\u001b[0m\u001b[0m\n\u001b[1;32m      4\u001b[0m     \u001b[0mstrax\u001b[0m\u001b[0;34m.\u001b[0m\u001b[0mOption\u001b[0m\u001b[0;34m(\u001b[0m\u001b[0;34m'hitfinder_threshold'\u001b[0m\u001b[0;34m,\u001b[0m \u001b[0mdefault\u001b[0m \u001b[0;34m=\u001b[0m \u001b[0;36m15\u001b[0m\u001b[0;34m,\u001b[0m \u001b[0mhelp\u001b[0m\u001b[0;34m=\u001b[0m \u001b[0;34m'Min ADC count threshold used if ZLE is applied'\u001b[0m\u001b[0;34m)\u001b[0m\u001b[0;34m,\u001b[0m\u001b[0;34m\u001b[0m\u001b[0m\n\u001b[1;32m      5\u001b[0m     \u001b[0mstrax\u001b[0m\u001b[0;34m.\u001b[0m\u001b[0mOption\u001b[0m\u001b[0;34m(\u001b[0m\u001b[0;34m'extension'\u001b[0m\u001b[0;34m,\u001b[0m \u001b[0mdefault\u001b[0m\u001b[0;34m=\u001b[0m\u001b[0;36m50\u001b[0m\u001b[0;34m,\u001b[0m \u001b[0mhelp\u001b[0m\u001b[0;34m=\u001b[0m\u001b[0;34m'Number of samples to save around a hit'\u001b[0m\u001b[0;34m)\u001b[0m\u001b[0;34m\u001b[0m\u001b[0m\n",
      "\u001b[0;31mNameError\u001b[0m: name 'export' is not defined"
     ]
    }
   ],
   "source": [
    "@export\n",
    "@strax.takes_config(\n",
    "    strax.Option('software_zle_channels', default = [], help= 'Channels to apply software ZLE to'),\n",
    "    strax.Option('hitfinder_threshold', default = 15, help= 'Min ADC count threshold used if ZLE is applied'),\n",
    "    strax.Option('extension', default=50, help='Number of samples to save around a hit')\n",
    ")\n",
    "\n",
    "                          \n",
    "class Records(strax.Plugin):\n",
    "    __version__ = '0.0.3'\n",
    "    depends_on = ('raw_records',)\n",
    "    data_kind = 'records'   # TODO: indicate cuts have been done?\n",
    "    compressor = 'zstd'\n",
    "    parallel = True\n",
    "    rechunk_on_save = False\n",
    "    dtype = strax.record_dtype()\n",
    "\n",
    "    def compute(self, raw_records):\n",
    "        r = raw_records[raw_records['channel'] in self.config['software_zle_channels']]\n",
    "        if len(r) :\n",
    "            hits = strax.find_hits(r)\n",
    "            r = strax.cut_outside_hits(r, hits, left_extension=self.config['extension'],\n",
    "                                                right_extension=self.config['extension'])\n",
    "        raw_records[raw_records['channel'] in self.config['software_zle_channels']] = r\n",
    "        return raw_records"
   ]
  },
  {
   "cell_type": "code",
   "execution_count": 5,
   "metadata": {},
   "outputs": [
    {
     "name": "stdout",
     "output_type": "stream",
     "text": [
      "CPU times: user 17.1 s, sys: 734 ms, total: 17.9 s\n",
      "Wall time: 16.7 s\n"
     ]
    }
   ],
   "source": [
    "%%time\n",
    "st.make(run_id, 'raw_records')"
   ]
  },
  {
   "cell_type": "code",
   "execution_count": 6,
   "metadata": {
    "collapsed": true
   },
   "outputs": [],
   "source": [
    "recs = st.get_array(run_id, 'raw_records')"
   ]
  },
  {
   "cell_type": "code",
   "execution_count": 7,
   "metadata": {},
   "outputs": [
    {
     "data": {
      "text/plain": [
       "array([(8, 10,      5086,  82,  -61,  82, 0, 8359.1  , 0, [  0,  -1,   0,  -2,  -2,  -2,  -3,  -1,   0,   2,   1,   0,   1,   0,  -2,  -1,   1,  -2,  -1,   2,   1,   2,   2,   1,   0,   2,   2,  -2,   0,   0,   1,  -1,   2,   0,   1,  -2,  -2,  -2,   0,   1, -11, -13,  -9,  -8,  -4,  -2,  -3,  -1,  -2,  -1,   0,  -1,   1,  -1,  -1,  -1,   1,   1,   0,  -2,  -3,   2,   0,   2,   1,   2,  -3,  -2,  -1,  -1,   0,   2,   2,   1,  -1,   0,  -2,   1,   0,  -2,   1,   1,   0,   0,   0,   0,   0,   0,   0,   0,   0,   0,   0,   0,   0,   0,   0,   0,   0,   0,   0,   0,   0,   0,   0,   0,   0,   0,   0,   0]),\n",
       "       (8, 10,      5946,  84, -113,  84, 0, 8358.575, 0, [ -1,   0,   1,   0,   0,   0,   0,  -2,   1,  -2,  -3,  -1,   2,   1,   0,  -2,   0,   1,   0,   0,   2,  -2,  -2,   0,   3,   0,   0,  -2,  -1,  -4,  -2,   0,  -2,  -3,  -1,  -1,  -1,   1,   0,  -3,  -6, -17, -14, -11,  -2,  -3,  -1,  -3,  -2,  -3,  -3,   0,  -2,  -3,  -3,   0,  -1,  -2,   0,  -1,  -2,   0,   0,  -1,   0,   0,   1,  -3,  -3,  -2,   0,   1,  -1,   1,   1,   0,  -1,   0,  -2,  -1,  -1,   1,  -1,   0,   0,   0,   0,   0,   0,   0,   0,   0,   0,   0,   0,   0,   0,   0,   0,   0,   0,   0,   0,   0,   0,   0,   0,   0,   0,   0]),\n",
       "       (8, 10,      6826, 110, -170, 116, 0, 8359.225, 0, [ -2,  -1,   0,  -1,   0,  -1,   1,   1,   1,   1,  -1,  -1,   1,   0,  -1,  -1,   1,   1,   0,   3,   3,   0,  -1,  -1,  -1,   0,  -3,  -3,   0,  -2,   2,  -1,   1,   1,  -1,  -3,   1,   0,   0,  -2, -21, -24, -16, -12,  -8,  -6,  -2,  -1,  -2,  -1,  -1,   0,   0,  -1,   0,   0,   0,   1,   2,   2,   0,  -2,   1,   0,  -1,   0,  -1,  -1,   1,  -1,  -1,   0,   0,  -2,  -1, -11, -10,  -9,  -5,  -2,   0,  -2,  -2,   1,  -2,  -2,  -1,  -1,  -2,  -1,   1,  -1,  -1,  -1,  -3,   0,  -1,   0,   0,  -2,  -4,  -1,   0,   3,   2,   1,  -2,  -1,  -2,  -2]),\n",
       "       ...,\n",
       "       (8, 10, 775221562,  60,   31,  60, 0, 8360.075, 0, [  1,   2,   1,   0,   3,   2,   2,   1,   4,   2,   2,   0,  -1,   1,   0,   2,  -1, -13, -14,  -8,  -6,  -4,  -2,  -2,   0,   2,   0,   3,   1,   2,   1,   3,   2,   1,   1,   0,   1,   2,   2,   4,   3,   1,   0,   3,   4,   4,   1,   0,   1,   0,   0,   3,   3,   2,   1,   1,   2,   1,   1,   3,   0,   0,   0,   0,   0,   0,   0,   0,   0,   0,   0,   0,   0,   0,   0,   0,   0,   0,   0,   0,   0,   0,   0,   0,   0,   0,   0,   0,   0,   0,   0,   0,   0,   0,   0,   0,   0,   0,   0,   0,   0,   0,   0,   0,   0,   0,   0,   0,   0,   0]),\n",
       "       (8, 10, 775222202,  86, -260,  86, 0, 8358.9  , 0, [ -3,   1,   0,   0,   1,  -4,   0,  -3,   1,  -3,   0,   2,   1,  -1,  -1,   1,  -1,  -3,  -1,  -3,   0,  -2,   1,   0,   0,  -2,  -1,  -1,  -1,   0,  -4,  -3,  -1,  -4,   0,   1,   2,  -1,  -2,  -2, -12, -26, -25, -24, -16, -13,  -7,  -8,  -3,   0,  -2,  -3,  -2,  -2,  -4,  -2, -11, -11,  -8,  -7,  -4,  -3,  -6,  -2,  -1,   0,  -2,   0,  -2,  -1,   0,   2,   0,  -1,  -3,  -1,  -3,  -2,  -1,   3,  -3,  -3,  -4,   0,   1,  -2,   0,   0,   0,   0,   0,   0,   0,   0,   0,   0,   0,   0,   0,   0,   0,   0,   0,   0,   0,   0,   0,   0,   0,   0]),\n",
       "       (8, 10, 775223102,  86, -154,  86, 0, 8359.775, 0, [ -2,  -2,   0,   1,  -1,   0, -10,  -9,  -9,  -6,  -6,  -2,   0,   1,  -1,   1,   0,  -1,   0,   2,   2,   1,   0,   3,   1,   0,   0,  -1,   0,   1,   1,   1,   3,  -1,   2,   0,  -2,  -1,   1,   2,   0, -25, -24, -17, -12, -11,  -6,  -5,  -4,  -3,  -4,  -3,  -4,   0,   1,  -2,  -1,  -1,   1,   1,   2,   1,  -1,  -1,  -2,  -1,  -1,   0,   1,  -2,   0,   4,   2,   0,   1,  -1,   2,  -1,  -2,   0,  -1,   0,  -2,   0,  -3,   1,   0,   0,   0,   0,   0,   0,   0,   0,   0,   0,   0,   0,   0,   0,   0,   0,   0,   0,   0,   0,   0,   0,   0,   0])],\n",
       "      dtype=[(('Channel/PMT number', 'channel'), '<i2'), (('Time resolution in ns', 'dt'), '<i2'), (('Start time of the interval (ns since unix epoch)', 'time'), '<i8'), (('Length of the interval in samples', 'length'), '<i4'), (('Integral in ADC x samples', 'area'), '<i4'), (('Length of pulse to which the record belongs (without zero-padding)', 'pulse_length'), '<i4'), (('Fragment number in the pulse', 'record_i'), '<i2'), (('Baseline in ADC counts. data = int(baseline) - data_orig', 'baseline'), '<f4'), (('Level of data reduction applied (strax.ReductionLevel enum)', 'reduction_level'), 'u1'), (('Waveform data in ADC counts above baseline', 'data'), '<i2', (110,))])"
      ]
     },
     "execution_count": 7,
     "metadata": {},
     "output_type": "execute_result"
    }
   ],
   "source": [
    "recs"
   ]
  },
  {
   "cell_type": "code",
   "execution_count": null,
   "metadata": {
    "collapsed": true
   },
   "outputs": [],
   "source": [
    "# passing only pulse location lists"
   ]
  },
  {
   "cell_type": "code",
   "execution_count": 7,
   "metadata": {},
   "outputs": [
    {
     "name": "stdout",
     "output_type": "stream",
     "text": [
      "CPU times: user 19.2 s, sys: 1.75 s, total: 21 s\n",
      "Wall time: 19.7 s\n"
     ]
    }
   ],
   "source": [
    "%%time\n",
    "st.make(run_id, 'raw_records')"
   ]
  },
  {
   "cell_type": "code",
   "execution_count": 5,
   "metadata": {},
   "outputs": [
    {
     "name": "stdout",
     "output_type": "stream",
     "text": [
      "CPU times: user 19.1 s, sys: 1.83 s, total: 20.9 s\n",
      "Wall time: 20.2 s\n"
     ]
    }
   ],
   "source": [
    "%%time\n",
    "st.make(run_id, 'raw_records')"
   ]
  },
  {
   "cell_type": "code",
   "execution_count": null,
   "metadata": {
    "collapsed": true
   },
   "outputs": [],
   "source": []
  },
  {
   "cell_type": "code",
   "execution_count": null,
   "metadata": {
    "collapsed": true
   },
   "outputs": [],
   "source": []
  },
  {
   "cell_type": "code",
   "execution_count": 5,
   "metadata": {},
   "outputs": [
    {
     "name": "stdout",
     "output_type": "stream",
     "text": [
      "CPU times: user 24.6 s, sys: 1.83 s, total: 26.5 s\n",
      "Wall time: 25.2 s\n"
     ]
    }
   ],
   "source": [
    "%%time\n",
    "st.make(run_id, 'raw_records')"
   ]
  },
  {
   "cell_type": "code",
   "execution_count": null,
   "metadata": {
    "collapsed": true
   },
   "outputs": [],
   "source": []
  },
  {
   "cell_type": "code",
   "execution_count": null,
   "metadata": {
    "collapsed": true
   },
   "outputs": [],
   "source": []
  },
  {
   "cell_type": "code",
   "execution_count": 8,
   "metadata": {},
   "outputs": [
    {
     "name": "stdout",
     "output_type": "stream",
     "text": [
      "CPU times: user 20.9 s, sys: 1.37 s, total: 22.2 s\n",
      "Wall time: 21.2 s\n"
     ]
    }
   ],
   "source": [
    "%%time\n",
    "st.make(run_id, 'raw_records')"
   ]
  },
  {
   "cell_type": "code",
   "execution_count": null,
   "metadata": {
    "collapsed": true
   },
   "outputs": [],
   "source": []
  },
  {
   "cell_type": "code",
   "execution_count": null,
   "metadata": {
    "collapsed": true
   },
   "outputs": [],
   "source": [
    "# Only decoding control words"
   ]
  },
  {
   "cell_type": "code",
   "execution_count": 5,
   "metadata": {},
   "outputs": [
    {
     "name": "stdout",
     "output_type": "stream",
     "text": [
      "CPU times: user 16.6 s, sys: 1.19 s, total: 17.7 s\n",
      "Wall time: 16.9 s\n"
     ]
    }
   ],
   "source": [
    "%%time\n",
    "st.make(run_id, 'raw_records')"
   ]
  },
  {
   "cell_type": "code",
   "execution_count": null,
   "metadata": {
    "collapsed": true
   },
   "outputs": [],
   "source": []
  },
  {
   "cell_type": "code",
   "execution_count": null,
   "metadata": {
    "collapsed": true
   },
   "outputs": [],
   "source": []
  },
  {
   "cell_type": "code",
   "execution_count": null,
   "metadata": {
    "collapsed": true
   },
   "outputs": [],
   "source": [
    "# No JIT"
   ]
  },
  {
   "cell_type": "code",
   "execution_count": 7,
   "metadata": {},
   "outputs": [
    {
     "name": "stdout",
     "output_type": "stream",
     "text": [
      "CPU times: user 33.8 s, sys: 1.39 s, total: 35.1 s\n",
      "Wall time: 34.1 s\n"
     ]
    }
   ],
   "source": [
    "%%time\n",
    "st.make(run_id, 'raw_records')"
   ]
  },
  {
   "cell_type": "code",
   "execution_count": null,
   "metadata": {
    "collapsed": true
   },
   "outputs": [],
   "source": []
  },
  {
   "cell_type": "code",
   "execution_count": null,
   "metadata": {
    "collapsed": true
   },
   "outputs": [],
   "source": []
  },
  {
   "cell_type": "code",
   "execution_count": null,
   "metadata": {
    "collapsed": true
   },
   "outputs": [],
   "source": []
  },
  {
   "cell_type": "code",
   "execution_count": null,
   "metadata": {
    "collapsed": true
   },
   "outputs": [],
   "source": []
  },
  {
   "cell_type": "code",
   "execution_count": null,
   "metadata": {
    "collapsed": true
   },
   "outputs": [],
   "source": [
    "raw_records = st.get_array(run_id, 'raw_records')"
   ]
  },
  {
   "cell_type": "code",
   "execution_count": null,
   "metadata": {
    "collapsed": true
   },
   "outputs": [],
   "source": [
    "raw_records['baseline']"
   ]
  },
  {
   "cell_type": "code",
   "execution_count": 6,
   "metadata": {
    "collapsed": true
   },
   "outputs": [],
   "source": [
    "peaks = st.get_array(run_id, 'peaks', config=dict(min_hits=1) )"
   ]
  },
  {
   "cell_type": "code",
   "execution_count": null,
   "metadata": {
    "collapsed": true
   },
   "outputs": [],
   "source": [
    "plt.hist(peaks['area'],bins=50,log=True)"
   ]
  },
  {
   "cell_type": "code",
   "execution_count": null,
   "metadata": {
    "collapsed": true
   },
   "outputs": [],
   "source": [
    "peaks = st.get_array(run_id, 'peaks', config=dict(min_hits=1))"
   ]
  },
  {
   "cell_type": "code",
   "execution_count": null,
   "metadata": {
    "collapsed": true
   },
   "outputs": [],
   "source": [
    "import numpy as np\n",
    "import matplotlib\n",
    "import matplotlib.pyplot as plt\n",
    "%matplotlib inline\n",
    "\n",
    "def plot_peaks(main_i, n_before=0, n_after=0, label_threshold=0):\n",
    "    for i in main_i + np.arange(-n_before, n_after + 1):\n",
    "        p = peaks[i]\n",
    "        label = None\n",
    "        if p['area'] > label_threshold:\n",
    "            label = '%.1f PE, %d ns dt' % (p['area'], p['dt'], )\n",
    "        plot_peak(p,\n",
    "                  t0=peaks[main_i]['time'],\n",
    "                  label=label)\n",
    "    plt.ylim(0, None)\n",
    "    plt.legend(loc='upper right')\n",
    "    #plt.yscale('symlog')\n",
    "\n",
    "def plot_peak(p, t0=None, **kwargs):\n",
    "    n = p['length']\n",
    "    if t0 is None:\n",
    "        t0 = p['time']\n",
    "    plt.plot((p['time'] - t0) + np.arange(n) * p['dt'],\n",
    "             p['data'][:n] / p['dt'],\n",
    "             linestyle='steps-mid',\n",
    "             **kwargs)\n",
    "    plt.xlabel(\"Time (ns)\")\n",
    "    plt.ylabel(\"Sum waveform (PE / ns)\")\n"
   ]
  },
  {
   "cell_type": "code",
   "execution_count": null,
   "metadata": {
    "collapsed": true
   },
   "outputs": [],
   "source": [
    "plot_peak(peaks[0])"
   ]
  },
  {
   "cell_type": "code",
   "execution_count": null,
   "metadata": {
    "collapsed": true
   },
   "outputs": [],
   "source": [
    "peaks"
   ]
  },
  {
   "cell_type": "code",
   "execution_count": null,
   "metadata": {
    "collapsed": true
   },
   "outputs": [],
   "source": [
    "amstrax.Peaks?"
   ]
  },
  {
   "cell_type": "code",
   "execution_count": null,
   "metadata": {
    "collapsed": true
   },
   "outputs": [],
   "source": []
  }
 ],
 "metadata": {
  "anaconda-cloud": {},
  "kernelspec": {
   "display_name": "Python 3",
   "language": "python",
   "name": "python3"
  },
  "language_info": {
   "codemirror_mode": {
    "name": "ipython",
    "version": 3
   },
   "file_extension": ".py",
   "mimetype": "text/x-python",
   "name": "python",
   "nbconvert_exporter": "python",
   "pygments_lexer": "ipython3",
   "version": "3.6.6"
  }
 },
 "nbformat": 4,
 "nbformat_minor": 2
}
